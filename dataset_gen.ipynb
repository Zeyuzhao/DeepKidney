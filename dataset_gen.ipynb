{
 "cells": [
  {
   "cell_type": "code",
   "execution_count": 2,
   "metadata": {
    "pycharm": {
     "is_executing": false
    }
   },
   "outputs": [],
   "source": [
    "from gurobipy import *\n",
    "import networkx as nx\n",
    "import matplotlib.pyplot as plt\n",
    "import random\n",
    "import warnings\n",
    "import os\n",
    "warnings.filterwarnings(\"ignore\")"
   ]
  },
  {
   "cell_type": "markdown",
   "metadata": {},
   "source": [
    "## Graph Representation\n",
    "\n",
    "Defintions:\n",
    "We have a graph $G = (V, E, w)$, where $V = \\{1, 2, ..., n\\}$, $E$ is the set of edges, and $w$ is the weight of each vertex, the function mapping $V \\rightarrow \\mathbb{R}^{+}$."
   ]
  },
  {
   "cell_type": "markdown",
   "metadata": {},
   "source": [
    "## Drawing Utility\n",
    "\n",
    "Takes in a undirected graph, and a color map, and draw the graph out in a circular format. "
   ]
  },
  {
   "cell_type": "code",
   "execution_count": 4,
   "metadata": {
    "pycharm": {
     "is_executing": false
    }
   },
   "outputs": [],
   "source": [
    "def draw_reduced(g, color_map = None):\n",
    "    \n",
    "    node_lables = nx.get_node_attributes(g, \"weight\")\n",
    "    \n",
    "    if node_lables:\n",
    "        node_lables = {k: \"{0}: {1}\".format(k, v) for (k, v) in node_lables.items()}\n",
    "    else:\n",
    "        node_lables = {k: k for k in g.nodes}\n",
    "    \n",
    "    plt.figure()\n",
    "    pos = nx.circular_layout(g)\n",
    "    nx.draw(g, pos, node_size=2000, width = 1, node_color = color_map)\n",
    "    nx.draw_networkx_labels(g, pos, node_lables)\n",
    "    plt.show()  \n",
    "    # plt.savefig(\"graph.png\", dpi=1000)\n"
   ]
  },
  {
   "cell_type": "markdown",
   "metadata": {},
   "source": [
    "## Gurobi maximum independent set solver\n",
    "\n",
    "Takes in a undirected graph, with optional assignment of weight to each vertex. Returns the maximum independent set, computed by the Gurobi solver. \n",
    "\n",
    "If using `display=True`, `draw_reduced()` must be supplied."
   ]
  },
  {
   "cell_type": "code",
   "execution_count": 5,
   "metadata": {
    "pycharm": {
     "is_executing": false
    }
   },
   "outputs": [],
   "source": [
    "def compute_max_ind_set(graph, display = False, debug = False):\n",
    "    nodes = list(graph.nodes)\n",
    "    model = Model('Maximum Independent Set')\n",
    "    \n",
    "    # Suppress output\n",
    "    if not debug:\n",
    "        model.setParam('OutputFlag', 0)\n",
    "\n",
    "    # An indicator variable for whether a node is chosen\n",
    "    indicators = model.addVars(nodes, vtype=GRB.BINARY, name = \"x\")\n",
    "    \n",
    "    # Set Constraint: If two nodes are bound by an edge, they cannot be both chosen\n",
    "    model.addConstrs(((indicators[i] + indicators[j] <= 1) for (i, j) in graph.edges), \"Max\")\n",
    "    \n",
    "    # Set objective: Maximize the weighted sum of nodes, or if no weights, just the cardinality.\n",
    "    weights = nx.get_node_attributes(graph, \"weight\")\n",
    "    if weights:\n",
    "        obj = sum([indicators[i] * weights[i] for i in nodes])\n",
    "    else:\n",
    "        obj = sum([indicators[i] for i in nodes])\n",
    "        \n",
    "    model.setObjective(obj, GRB.MAXIMIZE)\n",
    "    model.optimize()\n",
    "    \n",
    "    # Find all selected nodes and save them in soln\n",
    "    soln = []\n",
    "    for i in range(len(indicators)):\n",
    "        if indicators[i].x != 0:\n",
    "            soln.append(i)\n",
    "    \n",
    "    if display:\n",
    "        # Create color map from selected nodes, green for selected, grey for unselected.\n",
    "        color_map = [\"grey\"] * len(graph.nodes)\n",
    "        for i in soln:\n",
    "            color_map[i] = \"green\"\n",
    "        draw_reduced(graph, color_map)\n",
    "    return soln"
   ]
  },
  {
   "cell_type": "markdown",
   "metadata": {},
   "source": [
    "### One example: Random Binomial Graph"
   ]
  },
  {
   "cell_type": "code",
   "execution_count": 6,
   "metadata": {
    "pycharm": {
     "is_executing": false
    }
   },
   "outputs": [],
   "source": [
    "# Generate a random sparse graph and assign random weights to each vertex\n",
    "\n",
    "\n",
    "rand_graph = nx.fast_gnp_random_graph(100, 0.20, directed=False)\n",
    "\n",
    "# for v in rand_graph.nodes():\n",
    "#     rand_graph.nodes[v]['weight'] = round(random.uniform(0, 1), 2)\n",
    "    \n",
    "#draw_reduced(rand_graph)"
   ]
  },
  {
   "cell_type": "code",
   "execution_count": 7,
   "metadata": {
    "pycharm": {
     "is_executing": false,
     "name": "#%%\n"
    }
   },
   "outputs": [
    {
     "name": "stdout",
     "output_type": "stream",
     "text": [
      "Optimize a model with 996 rows, 100 columns and 1992 nonzeros\n",
      "Variable types: 0 continuous, 100 integer (100 binary)\n",
      "Coefficient statistics:\n",
      "  Matrix range     [1e+00, 1e+00]\n",
      "  Objective range  [1e+00, 1e+00]\n",
      "  Bounds range     [1e+00, 1e+00]\n",
      "  RHS range        [1e+00, 1e+00]\n",
      "Found heuristic solution: objective 14.0000000\n",
      "Presolve removed 580 rows and 0 columns\n",
      "Presolve time: 0.00s\n",
      "Presolved: 416 rows, 100 columns, 1374 nonzeros\n",
      "Variable types: 0 continuous, 100 integer (100 binary)\n",
      "\n",
      "Root relaxation: objective 2.645081e+01, 323 iterations, 0.01 seconds\n",
      "\n",
      "    Nodes    |    Current Node    |     Objective Bounds      |     Work\n",
      " Expl Unexpl |  Obj  Depth IntInf | Incumbent    BestBd   Gap | It/Node Time\n",
      "\n",
      "     0     0   26.45081    0   98   14.00000   26.45081  88.9%     -    0s\n",
      "H    0     0                      17.0000000   26.45081  55.6%     -    0s\n",
      "H    0     0                      18.0000000   26.45081  46.9%     -    0s\n",
      "     0     0   26.26182    0   99   18.00000   26.26182  45.9%     -    0s\n",
      "     0     0   26.26120    0   99   18.00000   26.26120  45.9%     -    0s\n",
      "     0     0   26.06886    0   98   18.00000   26.06886  44.8%     -    0s\n",
      "     0     0   26.06886    0   97   18.00000   26.06886  44.8%     -    0s\n",
      "     0     0   26.06886    0   98   18.00000   26.06886  44.8%     -    0s\n",
      "     0     0   26.06886    0   98   18.00000   26.06886  44.8%     -    0s\n",
      "     0     2   26.06886    0   98   18.00000   26.06886  44.8%     -    0s\n",
      "*   36    30              10      19.0000000   25.63935  34.9%  56.8    0s\n",
      "H   87    35                      20.0000000   24.72417  23.6%  43.7    0s\n",
      "\n",
      "Cutting planes:\n",
      "  Gomory: 1\n",
      "  Clique: 10\n",
      "  Zero half: 10\n",
      "\n",
      "Explored 659 nodes (24952 simplex iterations) in 0.42 seconds\n",
      "Thread count was 8 (of 8 available processors)\n",
      "\n",
      "Solution count 5: 20 19 18 ... 14\n",
      "\n",
      "Optimal solution found (tolerance 1.00e-04)\n",
      "Best objective 2.000000000000e+01, best bound 2.000000000000e+01, gap 0.0000%\n"
     ]
    }
   ],
   "source": [
    "rand_output = compute_max_ind_set(rand_graph, display=False, debug=True)"
   ]
  },
  {
   "cell_type": "code",
   "execution_count": 8,
   "metadata": {},
   "outputs": [
    {
     "data": {
      "text/plain": [
       "20"
      ]
     },
     "execution_count": 8,
     "metadata": {},
     "output_type": "execute_result"
    }
   ],
   "source": [
    "len(rand_output)"
   ]
  },
  {
   "cell_type": "markdown",
   "metadata": {},
   "source": [
    "## Generic Dataset Generator\n",
    "\n",
    "Generates random graphs and compute their maximum independent set.  \n",
    "Stores data in `data/generic_binomial`.  \n",
    "Generates random graphs and stores them in individual files named as `binomial[ID].txt`, where `[ID]` is the ID of the graph. \n",
    "The ID ranges from 1 to n, where n is the size of the dataset.\n",
    "\n",
    "A CSV would also be included in the directory. The format of this file would be rows of:  \n",
    "```\n",
    "filename, node1, node2, ... node[n]\n",
    "```\n",
    "The graph would be stored at `filename` and the solution would be presented as a list of nodes. Note that this only one solution specified in this training set, there might be other maximum solutions.\n"
   ]
  },
  {
   "cell_type": "code",
   "execution_count": 9,
   "metadata": {},
   "outputs": [
    {
     "name": "stdout",
     "output_type": "stream",
     "text": [
      "/home/zach/Documents/summer/DeepKidney\n"
     ]
    }
   ],
   "source": [
    "import os\n",
    "print(os.getcwd())"
   ]
  },
  {
   "cell_type": "code",
   "execution_count": 3,
   "metadata": {},
   "outputs": [],
   "source": [
    "import tarfile\n",
    "\n",
    "def make_tarfile(output_filename, source_dir):\n",
    "    with tarfile.open(output_filename, \"w:gz\") as tar:\n",
    "        tar.add(source_dir, arcname=os.path.basename(source_dir))"
   ]
  },
  {
   "cell_type": "code",
   "execution_count": 11,
   "metadata": {},
   "outputs": [
    {
     "data": {
      "application/vnd.jupyter.widget-view+json": {
       "model_id": "8bc1e1e28d52462f983119f8b07f464e",
       "version_major": 2,
       "version_minor": 0
      },
      "text/plain": [
       "HBox(children=(IntProgress(value=0, max=8000), HTML(value='')))"
      ]
     },
     "metadata": {},
     "output_type": "display_data"
    },
    {
     "name": "stdout",
     "output_type": "stream",
     "text": [
      "\n"
     ]
    }
   ],
   "source": [
    "from tqdm import tqdm_notebook\n",
    "import os\n",
    "import csv\n",
    "import pathlib\n",
    "import numpy as np\n",
    "import networkx as nx\n",
    "dataset_name = \"binomial_80\"\n",
    "root_dir = \"data/\" + dataset_name\n",
    "label_filename = \"label.csv\"\n",
    "weight_filename = 'weight.csv'\n",
    "\n",
    "num_examples = 8000\n",
    "num_nodes = 80\n",
    "edge_prob = 0.2\n",
    "\n",
    "os.makedirs(os.path.join(root_dir), exist_ok=True)\n",
    "with open(os.path.join(root_dir, label_filename), 'w+') as label_file:\n",
    "    with open(os.path.join(root_dir, weight_filename), 'w+') as weight_file:\n",
    "        label_writer = csv.writer(label_file, delimiter=',')\n",
    "        weight_writer = csv.writer(weight_file, delimiter=',')\n",
    "        label_writer.writerow([\"Filename\"] + list(range(num_nodes)))\n",
    "        weight_writer.writerow([\"Filename\"] + list(range(num_nodes)))\n",
    "        for i in tqdm_notebook(range(num_examples)):\n",
    "            graph_filename = \"binomial\" + str(i) + \".txt\"\n",
    "            graph = nx.fast_gnp_random_graph(num_nodes, edge_prob, directed=False)\n",
    "            \n",
    "            # weights = np.round(np.random.rand(num_nodes), 3)\n",
    "            weights = np.ones(num_nodes)\n",
    "            for v in graph.nodes():\n",
    "                graph.nodes[v]['weight'] = weights[v]\n",
    "            \n",
    "            with open(os.path.join(root_dir, graph_filename), 'wb+') as graph_file:\n",
    "                nx.write_adjlist(graph, graph_file)\n",
    "        \n",
    "            output_list = compute_max_ind_set(graph)\n",
    "            \n",
    "            output = np.zeros(num_nodes, dtype=int)\n",
    "            output[output_list] = 1\n",
    "            label_writer.writerow([graph_filename] + list(output))\n",
    "            weight_writer.writerow([graph_filename] + list(weights))\n",
    "            label_file.flush()\n",
    "            \n",
    "make_tarfile(root_dir + '.tar.gz', root_dir)"
   ]
  },
  {
   "cell_type": "code",
   "execution_count": 5,
   "metadata": {},
   "outputs": [],
   "source": [
    "make_tarfile(\"data/weighted_binomial\" + '.tar.gz', \"data/weighted_binomial_80\")"
   ]
  },
  {
   "cell_type": "code",
   "execution_count": 12,
   "metadata": {},
   "outputs": [],
   "source": [
    "# Compress dataset for Git\n",
    "# import os\n",
    "# dataset_name = \"generic_binomial_100\"\n",
    "# root_dir = \"data/\" + dataset_name\n"
   ]
  }
 ],
 "metadata": {
  "kernelspec": {
   "display_name": "deepkidney",
   "language": "python",
   "name": "deepkidney"
  },
  "language_info": {
   "codemirror_mode": {
    "name": "ipython",
    "version": 3
   },
   "file_extension": ".py",
   "mimetype": "text/x-python",
   "name": "python",
   "nbconvert_exporter": "python",
   "pygments_lexer": "ipython3",
   "version": "3.7.3"
  },
  "pycharm": {
   "stem_cell": {
    "cell_type": "raw",
    "metadata": {
     "collapsed": false
    },
    "source": []
   }
  }
 },
 "nbformat": 4,
 "nbformat_minor": 2
}
