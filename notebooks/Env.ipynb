{
 "cells": [
  {
   "cell_type": "code",
   "execution_count": 2,
   "metadata": {
    "pycharm": {
     "is_executing": false
    }
   },
   "outputs": [],
   "source": [
    "import random\n",
    "\n",
    "import numpy as np\n",
    "\n",
    "from math import sqrt, log\n",
    "\n",
    "from model.GCN import *\n",
    "\n",
    "from data.dataset import *"
   ]
  },
  {
   "cell_type": "code",
   "execution_count": 3,
   "metadata": {
    "pycharm": {
     "is_executing": false
    }
   },
   "outputs": [],
   "source": [
    "### Edge List Implementation\n",
    "\n",
    "class MaxSetState:\n",
    "    def __init__(self, data, state = None):\n",
    "        self.data = data\n",
    "        self.node_weights = data[\"x\"]\n",
    "        self.edge_index = data[\"edge_index\"]\n",
    "        \n",
    "        # number of total nodes in original graph\n",
    "        self.num_nodes = len(data[\"x\"])\n",
    "        if state is None:\n",
    "            \n",
    "            self.state = np.ones(self.num_nodes, dtype=bool)\n",
    "        else:\n",
    "            self.state = state\n",
    "        \n",
    "    def clone(self):\n",
    "        return MaxSetState(self.data, self.state.copy())\n",
    "\n",
    "    def step(self, action):\n",
    "        assert self.state[action] == 1\n",
    "        \n",
    "        edges = self.edge_index.transpose()\n",
    "        # Get all the neighbors of node action\n",
    "        removal = edges[edges[:, 0] == action][:, 1]\n",
    "        \n",
    "        # Create mask to remove node action and its neighbors\n",
    "        mask = np.zeros(self.num_nodes, dtype=bool)\n",
    "        mask[removal] = 1\n",
    "        mask[action] = 1\n",
    "        \n",
    "        # Perform mask\n",
    "        new_state = self.state & (~mask)\n",
    "        reward = self.node_weights[action]\n",
    "        return MaxSetState(self.data, new_state), reward\n",
    "    \n",
    "    def getNeighbors(self, node):\n",
    "        edges = self.edge_index.transpose()\n",
    "        # Get all the neighbors of node action\n",
    "        neighbors = edges[edges[:, 0] == node][:, 1]\n",
    "        return neighbors\n",
    "\n",
    "    def actions(self):\n",
    "        return list(np.flatnonzero(self.state))\n",
    "\n",
    "    def sample_action(self):\n",
    "        return random.choice(self.actions())\n",
    "\n",
    "    def get_edgelist(self):\n",
    "        new_edges = []\n",
    "        for e in self.edge_index:\n",
    "            if self.state[e[0]] == 1 or self.state[e[1]] == 1:\n",
    "                new_edges.append(e)\n",
    "        return np.array(new_edges)\n",
    "\n",
    "    def score(self):\n",
    "        assert not self.state.any()\n",
    "        return 0\n",
    "    def __repr__(self):\n",
    "        return str(self.state)\n"
   ]
  },
  {
   "cell_type": "code",
   "execution_count": 4,
   "metadata": {
    "pycharm": {
     "is_executing": false
    }
   },
   "outputs": [],
   "source": [
    "class Node:\n",
    "    def __init__(self, state: MaxSetState, action = None, parent = None):\n",
    "        # The action that led to this state, and a reference to the parent\n",
    "        self.action = action\n",
    "        self.parentNode = parent\n",
    "\n",
    "        # Statistics\n",
    "        self.totalScore = 0\n",
    "        self.visits = 1\n",
    "\n",
    "        # Children of node\n",
    "        self.childNodes = []\n",
    "        self.untriedActions = state.actions()\n",
    "\n",
    "    def select_child(self):\n",
    "        upper_confidence = {c: c.totalScore/c.visits + sqrt(4 * log(self.visits)/c.visits) for c in self.childNodes}\n",
    "        return max(upper_confidence, key=upper_confidence.get)\n",
    "\n",
    "    def addChild(self, state, action):\n",
    "        n = Node(state, action, self)\n",
    "        self.untriedActions.remove(action)\n",
    "        self.childNodes.append(n)\n",
    "        return n\n",
    "\n",
    "    def update(self, score):\n",
    "        self.visits += 1\n",
    "        self.totalScore += score\n",
    "\n",
    "    def __repr__(self):\n",
    "        return \"[A: {0} S/V: {1:.2f}/{2} AR: {4:.2f} U: {3}]\".format(self.action, self.totalScore, self.visits - 1, self.untriedActions, self.totalScore / self.visits)\n",
    "\n",
    "    def treeToString(self, level = 0):\n",
    "        s = '\\t' * level + \"\" + str(self) + \"\\n\"\n",
    "        for c in self.childNodes:\n",
    "            s += c.treeToString(level + 1)\n",
    "        return s"
   ]
  },
  {
   "cell_type": "code",
   "execution_count": 5,
   "metadata": {
    "pycharm": {
     "is_executing": false
    }
   },
   "outputs": [],
   "source": [
    "def search(root: MaxSetState, itermax, verbose):\n",
    "\n",
    "    rootnode = Node(root)\n",
    "\n",
    "    for i in range(itermax):\n",
    "        if (verbose == 2): print(rootnode.treeToString(0))\n",
    "        node = rootnode\n",
    "        state = root.clone()\n",
    "        # Selection\n",
    "        while node.untriedActions == [] and node.childNodes != []:\n",
    "            node = node.select_child()\n",
    "            state, reward = state.step(node.action)\n",
    "\n",
    "        # Expansion\n",
    "        if node.untriedActions != []:\n",
    "            a = random.choice(node.untriedActions)\n",
    "            if (verbose == 2):\n",
    "                print(\"Taking action: \" + str(a))\n",
    "            state, reward = state.step(a)\n",
    "            node = node.addChild(state, a)\n",
    "\n",
    "        # Simulation\n",
    "        if (verbose == 2):\n",
    "            print(\"Starting State: \" + str(state))\n",
    "        score = 0\n",
    "        while state.actions() != []:\n",
    "            sampled_action = state.sample_action()\n",
    "            state, reward = state.step(sampled_action)\n",
    "            score += reward\n",
    "            if (verbose == 2):\n",
    "                print(\"Simulating Action: \" + str(sampled_action))\n",
    "                print(\"Simulating Reward: \" + str(reward))\n",
    "                print(\"Next State: \" + str(state))\n",
    "        # Backpropagate\n",
    "\n",
    "        while node.action != None:\n",
    "            score += state.node_weights[node.action]\n",
    "            node.update(score)\n",
    "            if (verbose == 2):\n",
    "                print(\"Node Weights: \" + str(state.node_weights))\n",
    "                print(\"Action: \" + str(node.action))\n",
    "                print(\"Reward Value: \" + str(state.node_weights[node.action]))\n",
    "            node = node.parentNode\n",
    "        \n",
    "    if (verbose and verbose != 2): print(rootnode.treeToString(0))\n",
    "\n",
    "    actions = {c.action: c.visits for c in rootnode.childNodes}\n",
    "    return sorted(list(actions.keys()), key=actions.get, reverse=True)"
   ]
  },
  {
   "cell_type": "code",
   "execution_count": 9,
   "metadata": {
    "pycharm": {
     "is_executing": false
    }
   },
   "outputs": [
    {
     "name": "stdout",
     "text": [
      "/home/zach/Documents/summer/DeepKidney/data/weighted_4/weight.csv\n"
     ],
     "output_type": "stream"
    }
   ],
   "source": [
    "import matplotlib.pyplot as plt\n",
    "\n",
    "visualize = MaxIndDataset('../data/weighted_4')\n",
    "\n",
    "ID = 4\n",
    "test_graph = visualize[ID]"
   ]
  },
  {
   "cell_type": "code",
   "execution_count": 10,
   "metadata": {
    "pycharm": {
     "is_executing": false
    }
   },
   "outputs": [],
   "source": [
    "#draw_entry(test_graph)"
   ]
  },
  {
   "cell_type": "code",
   "execution_count": 14,
   "metadata": {
    "pycharm": {
     "is_executing": false
    }
   },
   "outputs": [
    {
     "name": "stdout",
     "text": [
      "[A: None S/V: 0.00/0 AR: 0.00 U: []]\n\t[A: 0 S/V: 1.01/1 AR: 0.50 U: [1, 2]]\n\t[A: 1 S/V: 1.01/1 AR: 0.50 U: [0, 2]]\n\t[A: 3 S/V: 104.37/97 AR: 1.07 U: []]\n\t\t[A: 2 S/V: 36.38/96 AR: 0.38 U: []]\n\t[A: 2 S/V: 1.08/1 AR: 0.54 U: [0, 1, 3]]\n\n"
     ],
     "output_type": "stream"
    }
   ],
   "source": [
    "# Debug Search\n",
    "test_data = {k: np.round(v.data.numpy(), 3) for k, v in iter(test_graph)}\n",
    "target = sum(test_data['x'][test_data['y'].astype(bool)])\n",
    "current = MaxSetState(data=test_data)\n",
    "result = search(current, 100, 1)"
   ]
  },
  {
   "cell_type": "code",
   "execution_count": 44,
   "metadata": {
    "pycharm": {
     "is_executing": false
    }
   },
   "outputs": [
    {
     "name": "stdout",
     "text": [
      "9.35 µs ± 719 ns per loop (mean ± std. dev. of 7 runs, 100000 loops each)\n"
     ],
     "output_type": "stream"
    }
   ],
   "source": [
    "%timeit current.step(0)"
   ]
  },
  {
   "cell_type": "code",
   "execution_count": 45,
   "metadata": {
    "pycharm": {
     "is_executing": false
    }
   },
   "outputs": [],
   "source": [
    "def random_rollout(data):\n",
    "    score = 0\n",
    "    state = MaxSetState(data)\n",
    "    while state.actions() != []:\n",
    "        state, reward = state.step(state.sample_action())\n",
    "        score += reward\n",
    "    return score\n",
    "\n",
    "def random_rollout_avg(data, rand_trials):\n",
    "    tot_rand_score = 0\n",
    "    for i in range(rand_trials):\n",
    "        tot_rand_score += random_rollout(data)\n",
    "    rand_score = tot_rand_score / rand_trials\n",
    "    return rand_score\n",
    "\n",
    "def random_rollout_max(data, rand_trials):\n",
    "    max_rand_score = 0\n",
    "    for i in range(rand_trials):\n",
    "        max_rand_score = max(max_rand_score, random_rollout(data))\n",
    "    return max_rand_score"
   ]
  },
  {
   "cell_type": "code",
   "execution_count": 46,
   "metadata": {
    "pycharm": {
     "is_executing": false
    }
   },
   "outputs": [],
   "source": [
    "def searchTester():\n",
    "    for ID in range(20):\n",
    "        test_graph = visualize[ID]\n",
    "        tot_score = 0\n",
    "        max_tot_score = 0\n",
    "        trials = 5\n",
    "\n",
    "        test_data = {k: np.round(v.data.numpy(), 3) for k, v in iter(test_graph)}\n",
    "\n",
    "        target = sum(test_data['x'][test_data['y'].astype(bool)])\n",
    "        for i in range(trials):\n",
    "            current = MaxSetState(data=test_data)\n",
    "            score = 0\n",
    "            action = \"None\"\n",
    "            reward = 0\n",
    "            chosen = []\n",
    "            while current.actions() != []:\n",
    "                result = search(current, 10000, False)\n",
    "                current, r = current.step(result[0])\n",
    "                # print(\"Action: {0} Reward: {1:.3f} Results: {2}\".format(action, reward, result))\n",
    "                action = result[0]\n",
    "                score += r\n",
    "                reward = r\n",
    "                chosen.append(action)\n",
    "            tot_score += score\n",
    "\n",
    "            optimal = np.flatnonzero(test_data['y'])\n",
    "    #         print(\"Chosen: {0}\".format(sorted(chosen)))\n",
    "    #         print(\"Optimal: {0}\".format(sorted(optimal)))\n",
    "    #         print(\"Action: {0} Score: {1:.3f}\".format(action, score))\n",
    "    #         print(\"Target: {0:.3f}\".format(target))\n",
    "    #         print(\"--------------------\")\n",
    "            max_tot_score = max(max_tot_score, score)\n",
    "        rand_avg_baseline = random_rollout_avg(test_data, 1000)\n",
    "        rand_max_baseline = random_rollout_max(test_data, 1000)\n",
    "        print(\"ID[{0}]: Target: {1:.3f} Algo Avg Score: {2:.3f}\\t Algo Max Score: {3:.3f}\\t Rand Avg Score: {4:.3f} Rand Max Score: {5:.3f}\".format(ID, target, (tot_score / trials), max_tot_score, rand_avg_baseline, rand_max_baseline))\n",
    "\n"
   ]
  },
  {
   "cell_type": "code",
   "execution_count": null,
   "outputs": [],
   "source": [
    "searchTester()"
   ],
   "metadata": {
    "collapsed": false,
    "pycharm": {
     "name": "#%%\n",
     "is_executing": true
    }
   }
  },
  {
   "cell_type": "code",
   "execution_count": 24,
   "metadata": {
    "pycharm": {
     "is_executing": false
    }
   },
   "outputs": [
    {
     "name": "stdout",
     "text": [
      "         34157443 function calls in 34.864 seconds\n\n   Ordered by: standard name\n\n   ncalls  tottime  percall  cumtime  percall filename:lineno(function)\n   162389    0.125    0.000    0.457    0.000 <ipython-input-2-d0aba86c4c4b>:17(clone)\n  1111696   12.788    0.000   15.221    0.000 <ipython-input-2-d0aba86c4c4b>:20(step)\n  1274086    0.856    0.000    1.006    0.000 <ipython-input-2-d0aba86c4c4b>:4(__init__)\n   677052    1.711    0.000    4.430    0.000 <ipython-input-2-d0aba86c4c4b>:43(actions)\n   217991    0.184    0.000    1.648    0.000 <ipython-input-2-d0aba86c4c4b>:46(sample_action)\n        1    0.000    0.000   34.864   34.864 <ipython-input-23-c4b89d6d1255>:1(searchTester)\n        1    0.000    0.000    0.000    0.000 <ipython-input-23-c4b89d6d1255>:8(<dictcomp>)\n   815042    0.627    0.000    9.239    0.000 <ipython-input-3-76847ac81d7f>:15(select_child)\n   815042    6.015    0.000    7.525    0.000 <ipython-input-3-76847ac81d7f>:16(<dictcomp>)\n    78647    0.096    0.000    0.849    0.000 <ipython-input-3-76847ac81d7f>:19(addChild)\n    78664    0.071    0.000    0.703    0.000 <ipython-input-3-76847ac81d7f>:2(__init__)\n   893688    0.385    0.000    0.385    0.000 <ipython-input-3-76847ac81d7f>:25(update)\n       17    4.081    0.240   34.863    2.051 <ipython-input-4-8d6644ecde41>:1(search)\n       16    0.000    0.000    0.000    0.000 <ipython-input-4-8d6644ecde41>:47(<dictcomp>)\n        1    0.000    0.000   34.864   34.864 <string>:1(<module>)\n        3    0.000    0.000    0.000    0.000 data.py:102(__setitem__)\n        2    0.000    0.000    0.000    0.000 data.py:106(keys)\n        2    0.000    0.000    0.000    0.000 data.py:109(<listcomp>)\n        4    0.000    0.000    0.000    0.000 data.py:123(__iter__)\n        3    0.000    0.000    0.000    0.000 data.py:138(__cat_dim__)\n        1    0.000    0.000    0.000    0.000 data.py:195(num_nodes)\n        1    0.000    0.000    0.000    0.000 data.py:60(__init__)\n       22    0.000    0.000    0.000    0.000 data.py:98(__getitem__)\n        1    0.000    0.000    0.000    0.000 debug.py:4(is_debug_enabled)\n   677053    0.469    0.000    1.325    0.000 fromnumeric.py:1583(ravel)\n   677053    0.208    0.000    0.885    0.000 fromnumeric.py:1694(nonzero)\n        3    0.000    0.000    0.000    0.000 fromnumeric.py:2940(around)\n        3    0.000    0.000    0.000    0.000 fromnumeric.py:3373(round_)\n   677056    0.279    0.000    0.677    0.000 fromnumeric.py:54(_wrapfunc)\n        1    0.000    0.000    0.000    0.000 in_memory_dataset.py:101(get)\n        1    0.000    0.000    0.000    0.000 in_memory_dataset.py:68(__getitem__)\n        2    0.000    0.000    0.000    0.000 numeric.py:175(ones)\n   677053    0.158    0.000    0.336    0.000 numeric.py:541(asanyarray)\n   677053    0.508    0.000    2.718    0.000 numeric.py:888(flatnonzero)\n   296638    0.277    0.000    0.422    0.000 random.py:224(_randbelow)\n   296638    0.197    0.000    0.651    0.000 random.py:256(choice)\n        3    0.000    0.000    0.000    0.000 re.py:180(search)\n        3    0.000    0.000    0.000    0.000 re.py:271(_compile)\n        1    0.000    0.000   34.864   34.864 {built-in method builtins.exec}\n   677078    0.086    0.000    0.086    0.000 {built-in method builtins.getattr}\n        1    0.000    0.000    0.000    0.000 {built-in method builtins.hasattr}\n   677057    0.138    0.000    0.138    0.000 {built-in method builtins.isinstance}\n        1    0.000    0.000    0.000    0.000 {built-in method builtins.iter}\n  1570724    0.183    0.000    0.183    0.000 {built-in method builtins.len}\n   815043    1.087    0.000    1.087    0.000 {built-in method builtins.max}\n        3    0.000    0.000    0.000    0.000 {built-in method builtins.setattr}\n       17    0.000    0.000    0.000    0.000 {built-in method builtins.sorted}\n        1    0.000    0.000    0.000    0.000 {built-in method builtins.sum}\n  7459962    1.014    0.000    1.014    0.000 {built-in method math.log}\n  7459962    0.496    0.000    0.496    0.000 {built-in method math.sqrt}\n   677053    0.178    0.000    0.178    0.000 {built-in method numpy.array}\n        2    0.000    0.000    0.000    0.000 {built-in method numpy.copyto}\n        2    0.000    0.000    0.000    0.000 {built-in method numpy.empty}\n  1111696    1.287    0.000    1.287    0.000 {built-in method numpy.zeros}\n    78663    0.011    0.000    0.011    0.000 {method 'append' of 'list' objects}\n        1    0.000    0.000    0.000    0.000 {method 'astype' of 'numpy.ndarray' objects}\n   296638    0.033    0.000    0.033    0.000 {method 'bit_length' of 'int' objects}\n   162389    0.206    0.000    0.206    0.000 {method 'copy' of 'numpy.ndarray' objects}\n        3    0.000    0.000    0.000    0.000 {method 'dim' of 'torch._C._TensorBase' objects}\n        1    0.000    0.000    0.000    0.000 {method 'disable' of '_lsprof.Profiler' objects}\n   523734    0.112    0.000    0.112    0.000 {method 'getrandbits' of '_random.Random' objects}\n        1    0.000    0.000    0.000    0.000 {method 'items' of 'dict' objects}\n       18    0.000    0.000    0.000    0.000 {method 'keys' of 'dict' objects}\n   677053    0.312    0.000    0.312    0.000 {method 'nonzero' of 'numpy.ndarray' objects}\n        3    0.000    0.000    0.000    0.000 {method 'numpy' of 'torch._C._TensorBase' objects}\n   677053    0.382    0.000    0.382    0.000 {method 'ravel' of 'numpy.ndarray' objects}\n    78649    0.039    0.000    0.039    0.000 {method 'remove' of 'list' objects}\n        3    0.000    0.000    0.000    0.000 {method 'round' of 'numpy.ndarray' objects}\n        3    0.000    0.000    0.000    0.000 {method 'search' of 're.Pattern' objects}\n  1111696    0.265    0.000    0.265    0.000 {method 'transpose' of 'numpy.ndarray' objects}\n\n\n"
     ],
     "output_type": "stream"
    },
    {
     "traceback": [
      "\u001b[0;31m---------------------------------------------------------------------------\u001b[0m",
      "\u001b[0;31mKeyboardInterrupt\u001b[0m                         Traceback (most recent call last)",
      "\u001b[0;32m<ipython-input-24-8cbbffb6d21b>\u001b[0m in \u001b[0;36m<module>\u001b[0;34m\u001b[0m\n\u001b[1;32m      1\u001b[0m \u001b[0;32mimport\u001b[0m \u001b[0mcProfile\u001b[0m\u001b[0;34m\u001b[0m\u001b[0;34m\u001b[0m\u001b[0m\n\u001b[0;32m----> 2\u001b[0;31m \u001b[0mcProfile\u001b[0m\u001b[0;34m.\u001b[0m\u001b[0mrun\u001b[0m\u001b[0;34m(\u001b[0m\u001b[0;34m'searchTester()'\u001b[0m\u001b[0;34m)\u001b[0m\u001b[0;34m\u001b[0m\u001b[0;34m\u001b[0m\u001b[0m\n\u001b[0m\u001b[1;32m      3\u001b[0m \u001b[0;34m\u001b[0m\u001b[0m\n",
      "\u001b[0;32m~/anaconda3/envs/deepkidney/lib/python3.7/cProfile.py\u001b[0m in \u001b[0;36mrun\u001b[0;34m(statement, filename, sort)\u001b[0m\n\u001b[1;32m     14\u001b[0m \u001b[0;34m\u001b[0m\u001b[0m\n\u001b[1;32m     15\u001b[0m \u001b[0;32mdef\u001b[0m \u001b[0mrun\u001b[0m\u001b[0;34m(\u001b[0m\u001b[0mstatement\u001b[0m\u001b[0;34m,\u001b[0m \u001b[0mfilename\u001b[0m\u001b[0;34m=\u001b[0m\u001b[0;32mNone\u001b[0m\u001b[0;34m,\u001b[0m \u001b[0msort\u001b[0m\u001b[0;34m=\u001b[0m\u001b[0;34m-\u001b[0m\u001b[0;36m1\u001b[0m\u001b[0;34m)\u001b[0m\u001b[0;34m:\u001b[0m\u001b[0;34m\u001b[0m\u001b[0;34m\u001b[0m\u001b[0m\n\u001b[0;32m---> 16\u001b[0;31m     \u001b[0;32mreturn\u001b[0m \u001b[0m_pyprofile\u001b[0m\u001b[0;34m.\u001b[0m\u001b[0m_Utils\u001b[0m\u001b[0;34m(\u001b[0m\u001b[0mProfile\u001b[0m\u001b[0;34m)\u001b[0m\u001b[0;34m.\u001b[0m\u001b[0mrun\u001b[0m\u001b[0;34m(\u001b[0m\u001b[0mstatement\u001b[0m\u001b[0;34m,\u001b[0m \u001b[0mfilename\u001b[0m\u001b[0;34m,\u001b[0m \u001b[0msort\u001b[0m\u001b[0;34m)\u001b[0m\u001b[0;34m\u001b[0m\u001b[0;34m\u001b[0m\u001b[0m\n\u001b[0m\u001b[1;32m     17\u001b[0m \u001b[0;34m\u001b[0m\u001b[0m\n\u001b[1;32m     18\u001b[0m \u001b[0;32mdef\u001b[0m \u001b[0mrunctx\u001b[0m\u001b[0;34m(\u001b[0m\u001b[0mstatement\u001b[0m\u001b[0;34m,\u001b[0m \u001b[0mglobals\u001b[0m\u001b[0;34m,\u001b[0m \u001b[0mlocals\u001b[0m\u001b[0;34m,\u001b[0m \u001b[0mfilename\u001b[0m\u001b[0;34m=\u001b[0m\u001b[0;32mNone\u001b[0m\u001b[0;34m,\u001b[0m \u001b[0msort\u001b[0m\u001b[0;34m=\u001b[0m\u001b[0;34m-\u001b[0m\u001b[0;36m1\u001b[0m\u001b[0;34m)\u001b[0m\u001b[0;34m:\u001b[0m\u001b[0;34m\u001b[0m\u001b[0;34m\u001b[0m\u001b[0m\n",
      "\u001b[0;32m~/anaconda3/envs/deepkidney/lib/python3.7/profile.py\u001b[0m in \u001b[0;36mrun\u001b[0;34m(self, statement, filename, sort)\u001b[0m\n\u001b[1;32m     51\u001b[0m         \u001b[0mprof\u001b[0m \u001b[0;34m=\u001b[0m \u001b[0mself\u001b[0m\u001b[0;34m.\u001b[0m\u001b[0mprofiler\u001b[0m\u001b[0;34m(\u001b[0m\u001b[0;34m)\u001b[0m\u001b[0;34m\u001b[0m\u001b[0;34m\u001b[0m\u001b[0m\n\u001b[1;32m     52\u001b[0m         \u001b[0;32mtry\u001b[0m\u001b[0;34m:\u001b[0m\u001b[0;34m\u001b[0m\u001b[0;34m\u001b[0m\u001b[0m\n\u001b[0;32m---> 53\u001b[0;31m             \u001b[0mprof\u001b[0m\u001b[0;34m.\u001b[0m\u001b[0mrun\u001b[0m\u001b[0;34m(\u001b[0m\u001b[0mstatement\u001b[0m\u001b[0;34m)\u001b[0m\u001b[0;34m\u001b[0m\u001b[0;34m\u001b[0m\u001b[0m\n\u001b[0m\u001b[1;32m     54\u001b[0m         \u001b[0;32mexcept\u001b[0m \u001b[0mSystemExit\u001b[0m\u001b[0;34m:\u001b[0m\u001b[0;34m\u001b[0m\u001b[0;34m\u001b[0m\u001b[0m\n\u001b[1;32m     55\u001b[0m             \u001b[0;32mpass\u001b[0m\u001b[0;34m\u001b[0m\u001b[0;34m\u001b[0m\u001b[0m\n",
      "\u001b[0;32m~/anaconda3/envs/deepkidney/lib/python3.7/cProfile.py\u001b[0m in \u001b[0;36mrun\u001b[0;34m(self, cmd)\u001b[0m\n\u001b[1;32m     93\u001b[0m         \u001b[0;32mimport\u001b[0m \u001b[0m__main__\u001b[0m\u001b[0;34m\u001b[0m\u001b[0;34m\u001b[0m\u001b[0m\n\u001b[1;32m     94\u001b[0m         \u001b[0mdict\u001b[0m \u001b[0;34m=\u001b[0m \u001b[0m__main__\u001b[0m\u001b[0;34m.\u001b[0m\u001b[0m__dict__\u001b[0m\u001b[0;34m\u001b[0m\u001b[0;34m\u001b[0m\u001b[0m\n\u001b[0;32m---> 95\u001b[0;31m         \u001b[0;32mreturn\u001b[0m \u001b[0mself\u001b[0m\u001b[0;34m.\u001b[0m\u001b[0mrunctx\u001b[0m\u001b[0;34m(\u001b[0m\u001b[0mcmd\u001b[0m\u001b[0;34m,\u001b[0m \u001b[0mdict\u001b[0m\u001b[0;34m,\u001b[0m \u001b[0mdict\u001b[0m\u001b[0;34m)\u001b[0m\u001b[0;34m\u001b[0m\u001b[0;34m\u001b[0m\u001b[0m\n\u001b[0m\u001b[1;32m     96\u001b[0m \u001b[0;34m\u001b[0m\u001b[0m\n\u001b[1;32m     97\u001b[0m     \u001b[0;32mdef\u001b[0m \u001b[0mrunctx\u001b[0m\u001b[0;34m(\u001b[0m\u001b[0mself\u001b[0m\u001b[0;34m,\u001b[0m \u001b[0mcmd\u001b[0m\u001b[0;34m,\u001b[0m \u001b[0mglobals\u001b[0m\u001b[0;34m,\u001b[0m \u001b[0mlocals\u001b[0m\u001b[0;34m)\u001b[0m\u001b[0;34m:\u001b[0m\u001b[0;34m\u001b[0m\u001b[0;34m\u001b[0m\u001b[0m\n",
      "\u001b[0;32m~/anaconda3/envs/deepkidney/lib/python3.7/cProfile.py\u001b[0m in \u001b[0;36mrunctx\u001b[0;34m(self, cmd, globals, locals)\u001b[0m\n\u001b[1;32m     98\u001b[0m         \u001b[0mself\u001b[0m\u001b[0;34m.\u001b[0m\u001b[0menable\u001b[0m\u001b[0;34m(\u001b[0m\u001b[0;34m)\u001b[0m\u001b[0;34m\u001b[0m\u001b[0;34m\u001b[0m\u001b[0m\n\u001b[1;32m     99\u001b[0m         \u001b[0;32mtry\u001b[0m\u001b[0;34m:\u001b[0m\u001b[0;34m\u001b[0m\u001b[0;34m\u001b[0m\u001b[0m\n\u001b[0;32m--> 100\u001b[0;31m             \u001b[0mexec\u001b[0m\u001b[0;34m(\u001b[0m\u001b[0mcmd\u001b[0m\u001b[0;34m,\u001b[0m \u001b[0mglobals\u001b[0m\u001b[0;34m,\u001b[0m \u001b[0mlocals\u001b[0m\u001b[0;34m)\u001b[0m\u001b[0;34m\u001b[0m\u001b[0;34m\u001b[0m\u001b[0m\n\u001b[0m\u001b[1;32m    101\u001b[0m         \u001b[0;32mfinally\u001b[0m\u001b[0;34m:\u001b[0m\u001b[0;34m\u001b[0m\u001b[0;34m\u001b[0m\u001b[0m\n\u001b[1;32m    102\u001b[0m             \u001b[0mself\u001b[0m\u001b[0;34m.\u001b[0m\u001b[0mdisable\u001b[0m\u001b[0;34m(\u001b[0m\u001b[0;34m)\u001b[0m\u001b[0;34m\u001b[0m\u001b[0;34m\u001b[0m\u001b[0m\n",
      "\u001b[0;32m<string>\u001b[0m in \u001b[0;36m<module>\u001b[0;34m\u001b[0m\n",
      "\u001b[0;32m<ipython-input-23-c4b89d6d1255>\u001b[0m in \u001b[0;36msearchTester\u001b[0;34m()\u001b[0m\n\u001b[1;32m     16\u001b[0m             \u001b[0mchosen\u001b[0m \u001b[0;34m=\u001b[0m \u001b[0;34m[\u001b[0m\u001b[0;34m]\u001b[0m\u001b[0;34m\u001b[0m\u001b[0;34m\u001b[0m\u001b[0m\n\u001b[1;32m     17\u001b[0m             \u001b[0;32mwhile\u001b[0m \u001b[0mcurrent\u001b[0m\u001b[0;34m.\u001b[0m\u001b[0mactions\u001b[0m\u001b[0;34m(\u001b[0m\u001b[0;34m)\u001b[0m \u001b[0;34m!=\u001b[0m \u001b[0;34m[\u001b[0m\u001b[0;34m]\u001b[0m\u001b[0;34m:\u001b[0m\u001b[0;34m\u001b[0m\u001b[0;34m\u001b[0m\u001b[0m\n\u001b[0;32m---> 18\u001b[0;31m                 \u001b[0mresult\u001b[0m \u001b[0;34m=\u001b[0m \u001b[0msearch\u001b[0m\u001b[0;34m(\u001b[0m\u001b[0mcurrent\u001b[0m\u001b[0;34m,\u001b[0m \u001b[0;36m10000\u001b[0m\u001b[0;34m,\u001b[0m \u001b[0;32mFalse\u001b[0m\u001b[0;34m)\u001b[0m\u001b[0;34m\u001b[0m\u001b[0;34m\u001b[0m\u001b[0m\n\u001b[0m\u001b[1;32m     19\u001b[0m                 \u001b[0mcurrent\u001b[0m\u001b[0;34m,\u001b[0m \u001b[0mr\u001b[0m \u001b[0;34m=\u001b[0m \u001b[0mcurrent\u001b[0m\u001b[0;34m.\u001b[0m\u001b[0mstep\u001b[0m\u001b[0;34m(\u001b[0m\u001b[0mresult\u001b[0m\u001b[0;34m[\u001b[0m\u001b[0;36m0\u001b[0m\u001b[0;34m]\u001b[0m\u001b[0;34m)\u001b[0m\u001b[0;34m\u001b[0m\u001b[0;34m\u001b[0m\u001b[0m\n\u001b[1;32m     20\u001b[0m                 \u001b[0;31m# print(\"Action: {0} Reward: {1:.3f} Results: {2}\".format(action, reward, result))\u001b[0m\u001b[0;34m\u001b[0m\u001b[0;34m\u001b[0m\u001b[0;34m\u001b[0m\u001b[0m\n",
      "\u001b[0;32m<ipython-input-4-8d6644ecde41>\u001b[0m in \u001b[0;36msearch\u001b[0;34m(root, itermax, verbose)\u001b[0m\n\u001b[1;32m     10\u001b[0m         \u001b[0;32mwhile\u001b[0m \u001b[0mnode\u001b[0m\u001b[0;34m.\u001b[0m\u001b[0muntriedActions\u001b[0m \u001b[0;34m==\u001b[0m \u001b[0;34m[\u001b[0m\u001b[0;34m]\u001b[0m \u001b[0;32mand\u001b[0m \u001b[0mnode\u001b[0m\u001b[0;34m.\u001b[0m\u001b[0mchildNodes\u001b[0m \u001b[0;34m!=\u001b[0m \u001b[0;34m[\u001b[0m\u001b[0;34m]\u001b[0m\u001b[0;34m:\u001b[0m\u001b[0;34m\u001b[0m\u001b[0;34m\u001b[0m\u001b[0m\n\u001b[1;32m     11\u001b[0m             \u001b[0mnode\u001b[0m \u001b[0;34m=\u001b[0m \u001b[0mnode\u001b[0m\u001b[0;34m.\u001b[0m\u001b[0mselect_child\u001b[0m\u001b[0;34m(\u001b[0m\u001b[0;34m)\u001b[0m\u001b[0;34m\u001b[0m\u001b[0;34m\u001b[0m\u001b[0m\n\u001b[0;32m---> 12\u001b[0;31m             \u001b[0mstate\u001b[0m\u001b[0;34m,\u001b[0m \u001b[0mreward\u001b[0m \u001b[0;34m=\u001b[0m \u001b[0mstate\u001b[0m\u001b[0;34m.\u001b[0m\u001b[0mstep\u001b[0m\u001b[0;34m(\u001b[0m\u001b[0mnode\u001b[0m\u001b[0;34m.\u001b[0m\u001b[0maction\u001b[0m\u001b[0;34m)\u001b[0m\u001b[0;34m\u001b[0m\u001b[0;34m\u001b[0m\u001b[0m\n\u001b[0m\u001b[1;32m     13\u001b[0m \u001b[0;34m\u001b[0m\u001b[0m\n\u001b[1;32m     14\u001b[0m         \u001b[0;31m# Expansion\u001b[0m\u001b[0;34m\u001b[0m\u001b[0;34m\u001b[0m\u001b[0;34m\u001b[0m\u001b[0m\n",
      "\u001b[0;32m<ipython-input-2-d0aba86c4c4b>\u001b[0m in \u001b[0;36mstep\u001b[0;34m(self, action)\u001b[0m\n\u001b[1;32m     27\u001b[0m         \u001b[0;31m# Create mask to remove node action and its neighbors\u001b[0m\u001b[0;34m\u001b[0m\u001b[0;34m\u001b[0m\u001b[0;34m\u001b[0m\u001b[0m\n\u001b[1;32m     28\u001b[0m         \u001b[0mmask\u001b[0m \u001b[0;34m=\u001b[0m \u001b[0mnp\u001b[0m\u001b[0;34m.\u001b[0m\u001b[0mzeros\u001b[0m\u001b[0;34m(\u001b[0m\u001b[0mself\u001b[0m\u001b[0;34m.\u001b[0m\u001b[0mnum_nodes\u001b[0m\u001b[0;34m,\u001b[0m \u001b[0mdtype\u001b[0m\u001b[0;34m=\u001b[0m\u001b[0mbool\u001b[0m\u001b[0;34m)\u001b[0m\u001b[0;34m\u001b[0m\u001b[0;34m\u001b[0m\u001b[0m\n\u001b[0;32m---> 29\u001b[0;31m         \u001b[0mmask\u001b[0m\u001b[0;34m[\u001b[0m\u001b[0mremoval\u001b[0m\u001b[0;34m]\u001b[0m \u001b[0;34m=\u001b[0m \u001b[0;36m1\u001b[0m\u001b[0;34m\u001b[0m\u001b[0;34m\u001b[0m\u001b[0m\n\u001b[0m\u001b[1;32m     30\u001b[0m         \u001b[0mmask\u001b[0m\u001b[0;34m[\u001b[0m\u001b[0maction\u001b[0m\u001b[0;34m]\u001b[0m \u001b[0;34m=\u001b[0m \u001b[0;36m1\u001b[0m\u001b[0;34m\u001b[0m\u001b[0;34m\u001b[0m\u001b[0m\n\u001b[1;32m     31\u001b[0m \u001b[0;34m\u001b[0m\u001b[0m\n",
      "\u001b[0;31mKeyboardInterrupt\u001b[0m: "
     ],
     "ename": "KeyboardInterrupt",
     "evalue": "",
     "output_type": "error"
    }
   ],
   "source": [
    "import cProfile\n",
    "cProfile.run('searchTester()')"
   ]
  },
  {
   "cell_type": "code",
   "execution_count": null,
   "metadata": {
    "pycharm": {
     "is_executing": false
    }
   },
   "outputs": [],
   "source": [
    "draw_entry(test_graph)"
   ]
  },
  {
   "cell_type": "code",
   "execution_count": null,
   "metadata": {
    "pycharm": {
     "is_executing": false
    }
   },
   "outputs": [],
   "source": [
    "current = MaxSetState(data=test_data)"
   ]
  },
  {
   "cell_type": "code",
   "execution_count": null,
   "metadata": {
    "pycharm": {
     "is_executing": false
    }
   },
   "outputs": [],
   "source": [
    "current.getNeighbors(16)"
   ]
  },
  {
   "cell_type": "code",
   "execution_count": null,
   "metadata": {},
   "outputs": [],
   "source": []
  }
 ],
 "metadata": {
  "kernelspec": {
   "name": "deepkidney",
   "language": "python",
   "display_name": "deepkidney"
  },
  "language_info": {
   "codemirror_mode": {
    "name": "ipython",
    "version": 3
   },
   "file_extension": ".py",
   "mimetype": "text/x-python",
   "name": "python",
   "nbconvert_exporter": "python",
   "pygments_lexer": "ipython3",
   "version": "3.7.3"
  },
  "pycharm": {
   "stem_cell": {
    "cell_type": "raw",
    "source": [],
    "metadata": {
     "collapsed": false
    }
   }
  }
 },
 "nbformat": 4,
 "nbformat_minor": 2
}