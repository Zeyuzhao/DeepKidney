{
 "cells": [
  {
   "cell_type": "code",
   "execution_count": 1,
   "metadata": {
    "pycharm": {
     "is_executing": false
    }
   },
   "outputs": [],
   "source": [
    "from gurobipy import *\n",
    "import networkx as nx\n",
    "import matplotlib.pyplot as plt\n",
    "import random\n",
    "import warnings\n",
    "import os\n",
    "warnings.filterwarnings(\"ignore\")"
   ]
  },
  {
   "cell_type": "markdown",
   "metadata": {},
   "source": [
    "## Graph Representation\n",
    "\n",
    "Defintions:\n",
    "We have a graph $G = (V, E, w)$, where $V = \\{1, 2, ..., n\\}$, $E$ is the set of edges, and $w$ is the weight of each vertex, the function mapping $V \\rightarrow \\mathbb{R}^{+}$."
   ]
  },
  {
   "cell_type": "markdown",
   "metadata": {},
   "source": [
    "## Drawing Utility\n",
    "\n",
    "Takes in a undirected graph, and a color map, and draw the graph out in a circular format. "
   ]
  },
  {
   "cell_type": "code",
   "execution_count": 2,
   "metadata": {
    "pycharm": {
     "is_executing": false
    }
   },
   "outputs": [],
   "source": [
    "def draw_reduced(g, color_map = None):\n",
    "    \n",
    "    node_lables = nx.get_node_attributes(g, \"weight\")\n",
    "    \n",
    "    if node_lables:\n",
    "        node_lables = {k: \"{0}: {1}\".format(k, v) for (k, v) in node_lables.items()}\n",
    "    else:\n",
    "        node_lables = {k: k for k in g.nodes}\n",
    "    \n",
    "    plt.figure()\n",
    "    pos = nx.circular_layout(g)\n",
    "    nx.draw(g, pos, node_size=2000, width = 1, node_color = color_map)\n",
    "    nx.draw_networkx_labels(g, pos, node_lables)\n",
    "    plt.show()  \n",
    "    # plt.savefig(\"graph.png\", dpi=1000)\n"
   ]
  },
  {
   "cell_type": "markdown",
   "metadata": {},
   "source": [
    "## Gurobi maximum independent set solver\n",
    "\n",
    "Takes in a undirected graph, with optional assignment of weight to each vertex. Returns the maximum independent set, computed by the Gurobi solver. \n",
    "\n",
    "If using `display=True`, `draw_reduced()` must be supplied."
   ]
  },
  {
   "cell_type": "code",
   "execution_count": 3,
   "metadata": {
    "pycharm": {
     "is_executing": false
    }
   },
   "outputs": [],
   "source": [
    "def compute_max_ind_set(graph, display = False, debug = False):\n",
    "    nodes = list(graph.nodes)\n",
    "    model = Model('Maximum Independent Set')\n",
    "    \n",
    "    # Suppress output\n",
    "    if not debug:\n",
    "        model.setParam('OutputFlag', 0)\n",
    "\n",
    "    # An indicator variable for whether a node is chosen\n",
    "    indicators = model.addVars(nodes, vtype=GRB.BINARY, name = \"x\")\n",
    "    \n",
    "    # Set Constraint: If two nodes are bound by an edge, they cannot be both chosen\n",
    "    model.addConstrs(((indicators[i] + indicators[j] <= 1) for (i, j) in graph.edges), \"Max\")\n",
    "    \n",
    "    # Set objective: Maximize the weighted sum of nodes, or if no weights, just the cardinality.\n",
    "    weights = nx.get_node_attributes(graph, \"weight\")\n",
    "    if weights:\n",
    "        obj = sum([indicators[i] * weights[i] for i in nodes])\n",
    "    else:\n",
    "        obj = sum([indicators[i] for i in nodes])\n",
    "        \n",
    "    model.setObjective(obj, GRB.MAXIMIZE)\n",
    "    model.optimize()\n",
    "    \n",
    "    # Find all selected nodes and save them in soln\n",
    "    soln = []\n",
    "    for i in range(len(indicators)):\n",
    "        if indicators[i].x != 0:\n",
    "            soln.append(i)\n",
    "    \n",
    "    if display:\n",
    "        # Create color map from selected nodes, green for selected, grey for unselected.\n",
    "        color_map = [\"grey\"] * len(graph.nodes)\n",
    "        for i in soln:\n",
    "            color_map[i] = \"green\"\n",
    "        draw_reduced(graph, color_map)\n",
    "    return soln"
   ]
  },
  {
   "cell_type": "markdown",
   "metadata": {},
   "source": [
    "### One example: Random Binomial Graph"
   ]
  },
  {
   "cell_type": "code",
   "execution_count": 8,
   "metadata": {
    "pycharm": {
     "is_executing": false
    }
   },
   "outputs": [],
   "source": [
    "# Generate a random sparse graph and assign random weights to each vertex\n",
    "\n",
    "\n",
    "rand_graph = nx.fast_gnp_random_graph(6, 0.20, directed=False)\n",
    "\n",
    "# for v in rand_graph.nodes():\n",
    "#     rand_graph.nodes[v]['weight'] = round(random.uniform(0, 1), 2)\n",
    "    \n",
    "#draw_reduced(rand_graph)"
   ]
  },
  {
   "cell_type": "code",
   "execution_count": 9,
   "metadata": {
    "pycharm": {
     "is_executing": false,
     "name": "#%%\n"
    }
   },
   "outputs": [
    {
     "data": {
      "image/png": "[encoded data removed]",
      "text/plain": [
       "<Figure size 432x288 with 1 Axes>"
      ]
     },
     "metadata": {},
     "output_type": "display_data"
    }
   ],
   "source": [
    "rand_output = compute_max_ind_set(rand_graph, display=True, debug=False)"
   ]
  },
  {
   "cell_type": "code",
   "execution_count": 6,
   "metadata": {
    "pycharm": {
     "is_executing": false
    }
   },
   "outputs": [
    {
     "data": {
      "text/plain": [
       "20"
      ]
     },
     "execution_count": 6,
     "metadata": {},
     "output_type": "execute_result"
    }
   ],
   "source": [
    "len(rand_output)"
   ]
  },
  {
   "cell_type": "markdown",
   "metadata": {},
   "source": [
    "## Generic Dataset Generator\n",
    "\n",
    "Generates random graphs and compute their maximum independent set.  \n",
    "Stores data in `data/generic_binomial`.  \n",
    "Generates random graphs and stores them in individual files named as `binomial[ID].txt`, where `[ID]` is the ID of the graph. \n",
    "The ID ranges from 1 to n, where n is the size of the dataset.\n",
    "\n",
    "A CSV would also be included in the directory. The format of this file would be rows of:  \n",
    "```\n",
    "filename, node1, node2, ... node[n]\n",
    "```\n",
    "The graph would be stored at `filename` and the solution would be presented as a list of nodes. Note that this only one solution specified in this training set, there might be other maximum solutions.\n"
   ]
  },
  {
   "cell_type": "code",
   "execution_count": 7,
   "metadata": {
    "pycharm": {
     "is_executing": false
    }
   },
   "outputs": [
    {
     "name": "stdout",
     "output_type": "stream",
     "text": [
      "/home/zach/Documents/summer/DeepKidney\n"
     ]
    }
   ],
   "source": [
    "import os\n",
    "print(os.getcwd())"
   ]
  },
  {
   "cell_type": "code",
   "execution_count": 8,
   "metadata": {
    "pycharm": {
     "is_executing": false
    }
   },
   "outputs": [],
   "source": [
    "import tarfile\n",
    "\n",
    "def make_tarfile(output_filename, source_dir):\n",
    "    with tarfile.open(output_filename, \"w:gz\") as tar:\n",
    "        tar.add(source_dir, arcname=os.path.basename(source_dir))"
   ]
  },
  {
   "cell_type": "code",
   "execution_count": 12,
   "metadata": {
    "pycharm": {
     "is_executing": false
    }
   },
   "outputs": [
    {
     "name": "stderr",
     "output_type": "stream",
     "text": [
      "100%|██████████| 100/100 [00:00<00:00, 186.22it/s]"
     ]
    },
    {
     "name": "stdout",
     "output_type": "stream",
     "text": [
      "done\n"
     ]
    },
    {
     "name": "stderr",
     "output_type": "stream",
     "text": [
      "\n"
     ]
    }
   ],
   "source": [
    "from tqdm import tqdm\n",
    "import os\n",
    "import csv\n",
    "import pathlib\n",
    "import numpy as np\n",
    "import networkx as nx\n",
    "dataset_name = \"weighted_80\"\n",
    "root_dir = \"data/\" + dataset_name\n",
    "label_filename = \"label.csv\"\n",
    "weight_filename = 'weight.csv'\n",
    "\n",
    "num_examples = 100\n",
    "num_nodes = 80\n",
    "edge_prob = 0.3\n",
    "\n",
    "WEIGHTED = True\n",
    "\n",
    "os.makedirs(os.path.join(root_dir), exist_ok=True)\n",
    "with open(os.path.join(root_dir, label_filename), 'w+') as label_file:\n",
    "    with open(os.path.join(root_dir, weight_filename), 'w+') as weight_file:\n",
    "        label_writer = csv.writer(label_file, delimiter=',')\n",
    "        weight_writer = csv.writer(weight_file, delimiter=',')\n",
    "        label_writer.writerow([\"Filename\"] + list(range(num_nodes)))\n",
    "        weight_writer.writerow([\"Filename\"] + list(range(num_nodes)))\n",
    "        for i in tqdm(range(num_examples)):\n",
    "            graph_filename = \"binomial\" + str(i) + \".txt\"\n",
    "            graph = nx.fast_gnp_random_graph(num_nodes, edge_prob, directed=False)\n",
    "            \n",
    "            if WEIGHTED:\n",
    "                weights = np.round(np.random.rand(num_nodes), 3)\n",
    "            else:\n",
    "                weights = np.ones(num_nodes)\n",
    "                \n",
    "            for v in graph.nodes():\n",
    "                graph.nodes[v]['weight'] = weights[v]\n",
    "            \n",
    "            with open(os.path.join(root_dir, graph_filename), 'wb+') as graph_file:\n",
    "                nx.write_adjlist(graph, graph_file)\n",
    "        \n",
    "            output_list = compute_max_ind_set(graph)\n",
    "            \n",
    "            output = np.zeros(num_nodes, dtype=int)\n",
    "            output[output_list] = 1\n",
    "            label_writer.writerow([graph_filename] + list(output))\n",
    "            weight_writer.writerow([graph_filename] + list(weights))\n",
    "            label_file.flush()\n",
    "\n",
    "make_tarfile(root_dir + '.tar.gz', root_dir)\n",
    "\n",
    "print(\"done\")"
   ]
  },
  {
   "cell_type": "code",
   "execution_count": 15,
   "metadata": {},
   "outputs": [],
   "source": [
    "# make_tarfile(\"data/weighted_binomial\" + '.tar.gz', \"data/weighted_binomial_80\")"
   ]
  },
  {
   "cell_type": "code",
   "execution_count": 16,
   "metadata": {},
   "outputs": [],
   "source": [
    "# Compress dataset for Git\n",
    "# import os\n",
    "# dataset_name = \"generic_binomial_100\"\n",
    "# root_dir = \"data/\" + dataset_name\n"
   ]
  },
  {
   "cell_type": "code",
   "execution_count": null,
   "metadata": {},
   "outputs": [],
   "source": []
  },
  {
   "cell_type": "code",
   "execution_count": null,
   "metadata": {},
   "outputs": [],
   "source": []
  }
 ],
 "metadata": {
  "kernelspec": {
   "display_name": "deepkidney",
   "language": "python",
   "name": "deepkidney"
  },
  "language_info": {
   "codemirror_mode": {
    "name": "ipython",
    "version": 3
   },
   "file_extension": ".py",
   "mimetype": "text/x-python",
   "name": "python",
   "nbconvert_exporter": "python",
   "pygments_lexer": "ipython3",
   "version": "3.7.4"
  },
  "pycharm": {
   "stem_cell": {
    "cell_type": "raw",
    "metadata": {
     "collapsed": false
    },
    "source": []
   }
  }
 },
 "nbformat": 4,
 "nbformat_minor": 4
}
