{
 "cells": [
  {
   "cell_type": "code",
   "execution_count": 1,
   "metadata": {
    "pycharm": {
     "is_executing": false
    }
   },
   "outputs": [],
   "source": [
    "import os\n",
    "import pandas as pd\n",
    "import numpy as np\n",
    "import csv\n",
    "import networkx as nx\n",
    "import matplotlib.pyplot as plt\n",
    "import torch"
   ]
  },
  {
   "cell_type": "markdown",
   "metadata": {},
   "source": [
    "## Drawing Utility\n",
    "\n",
    "Takes in a undirected graph, and a color map, and draw the graph out in a circular format. "
   ]
  },
  {
   "cell_type": "code",
   "execution_count": 2,
   "metadata": {
    "pycharm": {
     "is_executing": false
    }
   },
   "outputs": [],
   "source": [
    "from torch_geometric.utils import to_networkx\n",
    "\n",
    "def draw_entry(entry):\n",
    "    g = to_networkx(entry)\n",
    "    label = entry[\"y\"]\n",
    "    \n",
    "    # Create color map from selected nodes, green for selected, grey for unselected.\n",
    "    color_map = [\"grey\"] * len(g.nodes)\n",
    "\n",
    "    for i in np.flatnonzero(label):\n",
    "        color_map[i] = \"green\"\n",
    "        \n",
    "    node_lables = nx.get_node_attributes(g, \"weight\")\n",
    "    \n",
    "    if node_lables:\n",
    "        node_lables = {k: \"{0}: {1}\".format(k, v) for (k, v) in node_lables.items()}\n",
    "    else:\n",
    "        node_lables = {k: k for k in g.nodes}\n",
    "    \n",
    "    plt.figure()\n",
    "    pos = nx.circular_layout(g)\n",
    "    nx.draw(g, pos, node_size=2000, width = 1, node_color = color_map)\n",
    "    nx.draw_networkx_labels(g, pos, node_lables)\n",
    "    plt.show()  \n",
    "    # plt.savefig(\"graph.png\", dpi=1000)\n"
   ]
  },
  {
   "cell_type": "code",
   "execution_count": 3,
   "metadata": {
    "pycharm": {
     "is_executing": false
    }
   },
   "outputs": [
    {
     "data": {
      "text/html": [
       "<div>\n",
       "<style scoped>\n",
       "    .dataframe tbody tr th:only-of-type {\n",
       "        vertical-align: middle;\n",
       "    }\n",
       "\n",
       "    .dataframe tbody tr th {\n",
       "        vertical-align: top;\n",
       "    }\n",
       "\n",
       "    .dataframe thead th {\n",
       "        text-align: right;\n",
       "    }\n",
       "</style>\n",
       "<table border=\"1\" class=\"dataframe\">\n",
       "  <thead>\n",
       "    <tr style=\"text-align: right;\">\n",
       "      <th></th>\n",
       "      <th>0</th>\n",
       "      <th>1</th>\n",
       "      <th>2</th>\n",
       "      <th>3</th>\n",
       "      <th>4</th>\n",
       "      <th>5</th>\n",
       "      <th>6</th>\n",
       "      <th>7</th>\n",
       "      <th>8</th>\n",
       "      <th>9</th>\n",
       "      <th>...</th>\n",
       "      <th>12</th>\n",
       "      <th>13</th>\n",
       "      <th>14</th>\n",
       "      <th>15</th>\n",
       "      <th>16</th>\n",
       "      <th>17</th>\n",
       "      <th>18</th>\n",
       "      <th>19</th>\n",
       "      <th>20</th>\n",
       "      <th>21</th>\n",
       "    </tr>\n",
       "  </thead>\n",
       "  <tbody>\n",
       "    <tr>\n",
       "      <th>0</th>\n",
       "      <td>binomial0.txt</td>\n",
       "      <td>23</td>\n",
       "      <td>24</td>\n",
       "      <td>25</td>\n",
       "      <td>26</td>\n",
       "      <td>33</td>\n",
       "      <td>39</td>\n",
       "      <td>4</td>\n",
       "      <td>45</td>\n",
       "      <td>50</td>\n",
       "      <td>...</td>\n",
       "      <td>66</td>\n",
       "      <td>71</td>\n",
       "      <td>75</td>\n",
       "      <td>78</td>\n",
       "      <td>8</td>\n",
       "      <td>None</td>\n",
       "      <td>None</td>\n",
       "      <td>None</td>\n",
       "      <td>None</td>\n",
       "      <td>None</td>\n",
       "    </tr>\n",
       "    <tr>\n",
       "      <th>1</th>\n",
       "      <td>binomial1.txt</td>\n",
       "      <td>1</td>\n",
       "      <td>10</td>\n",
       "      <td>16</td>\n",
       "      <td>24</td>\n",
       "      <td>32</td>\n",
       "      <td>48</td>\n",
       "      <td>50</td>\n",
       "      <td>51</td>\n",
       "      <td>56</td>\n",
       "      <td>...</td>\n",
       "      <td>62</td>\n",
       "      <td>68</td>\n",
       "      <td>69</td>\n",
       "      <td>70</td>\n",
       "      <td>None</td>\n",
       "      <td>None</td>\n",
       "      <td>None</td>\n",
       "      <td>None</td>\n",
       "      <td>None</td>\n",
       "      <td>None</td>\n",
       "    </tr>\n",
       "    <tr>\n",
       "      <th>2</th>\n",
       "      <td>binomial2.txt</td>\n",
       "      <td>10</td>\n",
       "      <td>12</td>\n",
       "      <td>18</td>\n",
       "      <td>25</td>\n",
       "      <td>41</td>\n",
       "      <td>42</td>\n",
       "      <td>53</td>\n",
       "      <td>54</td>\n",
       "      <td>55</td>\n",
       "      <td>...</td>\n",
       "      <td>65</td>\n",
       "      <td>67</td>\n",
       "      <td>72</td>\n",
       "      <td>8</td>\n",
       "      <td>9</td>\n",
       "      <td>None</td>\n",
       "      <td>None</td>\n",
       "      <td>None</td>\n",
       "      <td>None</td>\n",
       "      <td>None</td>\n",
       "    </tr>\n",
       "    <tr>\n",
       "      <th>3</th>\n",
       "      <td>binomial3.txt</td>\n",
       "      <td>10</td>\n",
       "      <td>15</td>\n",
       "      <td>17</td>\n",
       "      <td>21</td>\n",
       "      <td>23</td>\n",
       "      <td>24</td>\n",
       "      <td>30</td>\n",
       "      <td>31</td>\n",
       "      <td>40</td>\n",
       "      <td>...</td>\n",
       "      <td>64</td>\n",
       "      <td>71</td>\n",
       "      <td>73</td>\n",
       "      <td>74</td>\n",
       "      <td>None</td>\n",
       "      <td>None</td>\n",
       "      <td>None</td>\n",
       "      <td>None</td>\n",
       "      <td>None</td>\n",
       "      <td>None</td>\n",
       "    </tr>\n",
       "    <tr>\n",
       "      <th>4</th>\n",
       "      <td>binomial4.txt</td>\n",
       "      <td>11</td>\n",
       "      <td>12</td>\n",
       "      <td>13</td>\n",
       "      <td>17</td>\n",
       "      <td>2</td>\n",
       "      <td>20</td>\n",
       "      <td>28</td>\n",
       "      <td>3</td>\n",
       "      <td>37</td>\n",
       "      <td>...</td>\n",
       "      <td>52</td>\n",
       "      <td>55</td>\n",
       "      <td>59</td>\n",
       "      <td>64</td>\n",
       "      <td>7</td>\n",
       "      <td>75</td>\n",
       "      <td>77</td>\n",
       "      <td>None</td>\n",
       "      <td>None</td>\n",
       "      <td>None</td>\n",
       "    </tr>\n",
       "  </tbody>\n",
       "</table>\n",
       "<p>5 rows × 22 columns</p>\n",
       "</div>"
      ],
      "text/plain": [
       "              0   1   2   3   4   5   6   7   8   9   ...  12  13  14  15  \\\n",
       "0  binomial0.txt  23  24  25  26  33  39   4  45  50  ...  66  71  75  78   \n",
       "1  binomial1.txt   1  10  16  24  32  48  50  51  56  ...  62  68  69  70   \n",
       "2  binomial2.txt  10  12  18  25  41  42  53  54  55  ...  65  67  72   8   \n",
       "3  binomial3.txt  10  15  17  21  23  24  30  31  40  ...  64  71  73  74   \n",
       "4  binomial4.txt  11  12  13  17   2  20  28   3  37  ...  52  55  59  64   \n",
       "\n",
       "     16    17    18    19    20    21  \n",
       "0     8  None  None  None  None  None  \n",
       "1  None  None  None  None  None  None  \n",
       "2     9  None  None  None  None  None  \n",
       "3  None  None  None  None  None  None  \n",
       "4     7    75    77  None  None  None  \n",
       "\n",
       "[5 rows x 22 columns]"
      ]
     },
     "execution_count": 3,
     "metadata": {},
     "output_type": "execute_result"
    }
   ],
   "source": [
    "dataset_name = \"large_binomial_80\"\n",
    "root_dir = \"data/\" + dataset_name\n",
    "label_filename = \"label.csv\"\n",
    "\n",
    "# Read CSV File\n",
    "label_arr = []\n",
    "with open(os.path.join(root_dir, label_filename), 'r') as label_file:\n",
    "    label_reader = csv.reader(label_file, delimiter = \",\")\n",
    "    for row in label_reader:\n",
    "        label_arr.append([row[0]] + sorted(row[1:]))\n",
    "label_frame = pd.DataFrame(data=label_arr)\n",
    "label_frame.head()"
   ]
  },
  {
   "cell_type": "code",
   "execution_count": 4,
   "metadata": {
    "pycharm": {
     "is_executing": false
    }
   },
   "outputs": [],
   "source": [
    "import torch\n",
    "from torch_geometric.data import InMemoryDataset, DataLoader\n",
    "from torch_geometric.utils import from_networkx\n",
    "\n",
    "class MaxIndSetDataset(InMemoryDataset):\n",
    "    \"\"\"Graphs labelled with its Maximum Independent Set\"\"\"\n",
    "    \n",
    "    def __init__(self, csv_file = None, root_dir = None, tar_dir = None):\n",
    "        if csv_file and root_dir:\n",
    "            # Read CSV File\n",
    "            label_arr = []\n",
    "            with open(os.path.join(root_dir, label_filename), 'r') as label_file:\n",
    "                label_reader = csv.reader(label_file, delimiter = \",\")\n",
    "                for row in label_reader:\n",
    "                    label_arr.append([row[0]] + sorted(row[1:]))\n",
    "            self.label_frame = pd.DataFrame(data=label_arr)\n",
    "            self.root_dir = root_dir\n",
    "            self.transform = None\n",
    "        else:\n",
    "            raise NotImplementedError(\"Need to supply csv_file and root_dir\")\n",
    "    def __len__(self):\n",
    "        return len(self.label_frame)\n",
    "    \n",
    "    def get(self, idx):\n",
    "        graph_name = os.path.join(self.root_dir, self.label_frame.iloc[idx, 0])\n",
    "        graph = nx.read_adjlist(graph_name, nodetype=int)\n",
    "        label_array = np.array(self.label_frame.iloc[idx, 1:].dropna(), dtype=np.int)\n",
    "        \n",
    "        # A binary vector of the nodes used\n",
    "        label_bin = np.zeros(len(graph.nodes))\n",
    "        label_bin[label_array] = 1\n",
    "        \n",
    "        sample = {\"graph\": graph, \"label\": label_bin}\n",
    "        \n",
    "        # \n",
    "        data = from_networkx(sample[\"graph\"])\n",
    "        data.y = torch.tensor(sample[\"label\"], dtype=torch.int64) # Use pytorch tensor\n",
    "        return data"
   ]
  },
  {
   "cell_type": "code",
   "execution_count": 5,
   "metadata": {
    "pycharm": {
     "is_executing": false
    }
   },
   "outputs": [],
   "source": [
    "generic_bin_dataset = MaxIndSetDataset(csv_file='data/large_binomial_80/label.csv', \n",
    "                                       root_dir='data/large_binomial_80/')\n"
   ]
  },
  {
   "cell_type": "code",
   "execution_count": 6,
   "metadata": {},
   "outputs": [
    {
     "data": {
      "text/plain": [
       "8000"
      ]
     },
     "execution_count": 6,
     "metadata": {},
     "output_type": "execute_result"
    }
   ],
   "source": [
    "len(generic_bin_dataset)"
   ]
  },
  {
   "cell_type": "code",
   "execution_count": 7,
   "metadata": {
    "pycharm": {
     "is_executing": false
    }
   },
   "outputs": [],
   "source": [
    "train_loader = DataLoader(generic_bin_dataset[:6000], batch_size=60, shuffle=True)\n",
    "val_loader = DataLoader(generic_bin_dataset[6000:7000], batch_size=60)\n",
    "test_loader = DataLoader(generic_bin_dataset[7000:], batch_size=60)"
   ]
  },
  {
   "cell_type": "code",
   "execution_count": 8,
   "metadata": {},
   "outputs": [
    {
     "name": "stdout",
     "output_type": "stream",
     "text": [
      "60\n",
      "60\n"
     ]
    }
   ],
   "source": [
    "for i, batch in enumerate(test_loader):\n",
    "    print(batch.num_graphs)\n",
    "    if i > 0:\n",
    "        break"
   ]
  },
  {
   "cell_type": "markdown",
   "metadata": {},
   "source": [
    "## Sample Network\n",
    "\n",
    "Version 1: No node weights, only maximizing cardinality"
   ]
  },
  {
   "cell_type": "code",
   "execution_count": 9,
   "metadata": {},
   "outputs": [],
   "source": [
    "import torch\n",
    "import torch.nn.functional as F\n",
    "from torch_geometric.nn import GCNConv\n",
    "\n",
    "class Net(torch.nn.Module):\n",
    "    def __init__(self):\n",
    "        super(Net, self).__init__()\n",
    "        self.conv1 = GCNConv(1, 16)\n",
    "        self.conv2 = GCNConv(16, 1)\n",
    "\n",
    "    def forward(self, data):\n",
    "        node_weights = data[\"weight\"]\n",
    "        edge_index = data[\"edge_index\"]\n",
    "        x = self.conv1(node_weights, edge_index)\n",
    "        x = F.relu(x)\n",
    "        x = self.conv2(x, edge_index)\n",
    "        x = F.sigmoid(x)\n",
    "        return x"
   ]
  },
  {
   "cell_type": "code",
   "execution_count": 10,
   "metadata": {},
   "outputs": [
    {
     "name": "stderr",
     "output_type": "stream",
     "text": [
      "/home/zach/anaconda3/envs/deepkidney/lib/python3.7/site-packages/torch/nn/functional.py:1386: UserWarning: nn.functional.sigmoid is deprecated. Use torch.sigmoid instead.\n",
      "  warnings.warn(\"nn.functional.sigmoid is deprecated. Use torch.sigmoid instead.\")\n"
     ]
    },
    {
     "name": "stdout",
     "output_type": "stream",
     "text": [
      "[1,    20] loss: 0.522217\n",
      "[1,    40] loss: 0.494099\n",
      "[1,    60] loss: 0.492081\n",
      "[1,    80] loss: 0.492084\n",
      "[1,   100] loss: 0.491799\n",
      "[1,   120] loss: 0.491103\n",
      "[2,    20] loss: 0.490240\n",
      "[2,    40] loss: 0.489328\n",
      "[2,    60] loss: 0.489768\n",
      "[2,    80] loss: 0.489578\n",
      "[2,   100] loss: 0.488410\n",
      "[2,   120] loss: 0.488737\n",
      "[3,    20] loss: 0.486694\n",
      "[3,    40] loss: 0.486115\n",
      "[3,    60] loss: 0.486323\n",
      "[3,    80] loss: 0.485943\n",
      "[3,   100] loss: 0.484294\n",
      "[3,   120] loss: 0.483826\n",
      "[4,    20] loss: 0.483955\n",
      "[4,    40] loss: 0.481703\n",
      "[4,    60] loss: 0.481795\n",
      "[4,    80] loss: 0.481966\n",
      "[4,   100] loss: 0.480302\n",
      "[4,   120] loss: 0.479627\n",
      "[5,    20] loss: 0.479517\n",
      "[5,    40] loss: 0.478607\n",
      "[5,    60] loss: 0.478000\n",
      "[5,    80] loss: 0.477628\n",
      "[5,   100] loss: 0.477760\n",
      "[5,   120] loss: 0.476198\n",
      "[6,    20] loss: 0.476222\n",
      "[6,    40] loss: 0.475148\n",
      "[6,    60] loss: 0.475256\n",
      "[6,    80] loss: 0.474518\n",
      "[6,   100] loss: 0.473686\n",
      "[6,   120] loss: 0.473783\n",
      "[7,    20] loss: 0.473376\n",
      "[7,    40] loss: 0.473511\n",
      "[7,    60] loss: 0.472322\n",
      "[7,    80] loss: 0.471756\n",
      "[7,   100] loss: 0.471107\n",
      "[7,   120] loss: 0.470946\n",
      "[8,    20] loss: 0.471242\n",
      "[8,    40] loss: 0.469824\n",
      "[8,    60] loss: 0.469403\n",
      "[8,    80] loss: 0.469699\n",
      "[8,   100] loss: 0.470101\n",
      "[8,   120] loss: 0.469136\n",
      "[9,    20] loss: 0.468477\n",
      "[9,    40] loss: 0.469544\n",
      "[9,    60] loss: 0.467931\n",
      "[9,    80] loss: 0.467311\n",
      "[9,   100] loss: 0.468003\n",
      "[9,   120] loss: 0.467791\n",
      "[10,    20] loss: 0.467348\n",
      "[10,    40] loss: 0.466979\n",
      "[10,    60] loss: 0.466657\n",
      "[10,    80] loss: 0.467105\n",
      "[10,   100] loss: 0.466130\n",
      "[10,   120] loss: 0.467216\n",
      "Finished Training\n"
     ]
    }
   ],
   "source": [
    "### Runs but losses dont go down, seems to converge to around 0.48\n",
    "\n",
    "device = torch.device(\"cuda:0\" if torch.cuda.is_available() else \"cpu\")\n",
    "\n",
    "model = Net().to(device)\n",
    "criterion = torch.nn.BCELoss()\n",
    "optimizer = torch.optim.Adam(model.parameters(), lr=0.01, weight_decay=5e-4)\n",
    "\n",
    "for epoch in range(10):\n",
    "    running_loss = 0.0\n",
    "    \n",
    "    for i, item in enumerate(train_loader):\n",
    "        model.train()\n",
    "        optimizer.zero_grad()\n",
    "        \n",
    "        item[\"weight\"] = torch.ones([len(item[\"y\"])]).reshape(-1, 1)\n",
    "        item = item.to(device)\n",
    "        outputs = model(item)\n",
    "\n",
    "        loss = criterion(outputs.squeeze(), item[\"y\"].float().squeeze())\n",
    "        loss.backward()\n",
    "        optimizer.step()\n",
    "        \n",
    "        running_loss += loss.item()\n",
    "        if i % 20 == 19:    # print every 100 mini-batches\n",
    "            print('[%d, %5d] loss: %.6f' %\n",
    "                  (epoch + 1, i + 1, running_loss / 20))\n",
    "            running_loss = 0.0\n",
    "print('Finished Training')        \n",
    "        \n",
    "        "
   ]
  },
  {
   "cell_type": "code",
   "execution_count": null,
   "metadata": {},
   "outputs": [],
   "source": [
    "### NOT Finished: Trying to implement an accuracy logger\n",
    "device = torch.device(\"cuda:0\" if torch.cuda.is_available() else \"cpu\")\n",
    "model = Net().to(device)\n",
    "criterion = torch.nn.BCELoss()\n",
    "optimizer = torch.optim.Adam(model.parameters(), lr=0.01, weight_decay=5e-4)\n",
    "\n",
    "def train(epoch):\n",
    "    model.train()\n",
    "\n",
    "    total_loss = 0\n",
    "    for data in train_loader:\n",
    "        data = data.to(device)\n",
    "        optimizer.zero_grad()\n",
    "        out, attn_loss, _ = model(data)\n",
    "        loss = ((out - data.y).pow(2) + 100 * attn_loss).mean()\n",
    "        loss.backward()\n",
    "        total_loss += loss.item() * data.num_graphs\n",
    "        optimizer.step()\n",
    "\n",
    "    return total_loss / len(train_loader.dataset)\n",
    "\n",
    "\n",
    "def test(loader):\n",
    "    model.eval()\n",
    "\n",
    "    corrects, total_ratio = [], 0\n",
    "    for data in loader:\n",
    "        data = data.to(device)\n",
    "        out, _, ratio = model(data)\n",
    "        pred = out.round().to(torch.long)\n",
    "        corrects.append(pred.eq(data.y.to(torch.long)))\n",
    "        total_ratio += ratio\n",
    "    return torch.cat(corrects, dim=0), total_ratio / len(loader)\n"
   ]
  },
  {
   "cell_type": "code",
   "execution_count": null,
   "metadata": {},
   "outputs": [],
   "source": []
  },
  {
   "cell_type": "code",
   "execution_count": null,
   "metadata": {},
   "outputs": [],
   "source": []
  },
  {
   "cell_type": "code",
   "execution_count": 11,
   "metadata": {},
   "outputs": [],
   "source": [
    "test_dataset = MaxIndSetDataset(csv_file='data/small_test/label.csv', \n",
    "                                       root_dir='data/small_test/')"
   ]
  },
  {
   "cell_type": "code",
   "execution_count": 78,
   "metadata": {},
   "outputs": [
    {
     "data": {
      "text/plain": [
       "Data(edge_index=[2, 40], y=[10])"
      ]
     },
     "execution_count": 78,
     "metadata": {},
     "output_type": "execute_result"
    }
   ],
   "source": [
    "ex = test_dataset[7]\n",
    "ex"
   ]
  },
  {
   "cell_type": "code",
   "execution_count": 79,
   "metadata": {},
   "outputs": [
    {
     "data": {
      "image/png": "[encoded data removed]",
      "text/plain": [
       "<Figure size 432x288 with 1 Axes>"
      ]
     },
     "metadata": {},
     "output_type": "display_data"
    }
   ],
   "source": [
    "draw_entry(ex)"
   ]
  },
  {
   "cell_type": "code",
   "execution_count": 80,
   "metadata": {},
   "outputs": [
    {
     "data": {
      "text/plain": [
       "Data(edge_index=[2, 40], weight=[10, 1], y=[10])"
      ]
     },
     "execution_count": 80,
     "metadata": {},
     "output_type": "execute_result"
    }
   ],
   "source": [
    "ex[\"weight\"] = torch.ones([len(ex[\"y\"])]).reshape(-1, 1)\n",
    "ex.to(device)"
   ]
  },
  {
   "cell_type": "code",
   "execution_count": 81,
   "metadata": {},
   "outputs": [
    {
     "data": {
      "text/plain": [
       "tensor([[0.2613],\n",
       "        [0.1629],\n",
       "        [0.1526],\n",
       "        [0.2061],\n",
       "        [0.3543],\n",
       "        [0.3598],\n",
       "        [0.2489],\n",
       "        [0.0492],\n",
       "        [0.2324],\n",
       "        [0.0864]], device='cuda:0', grad_fn=<SigmoidBackward>)"
      ]
     },
     "execution_count": 81,
     "metadata": {},
     "output_type": "execute_result"
    }
   ],
   "source": [
    "out = model(ex)\n",
    "out"
   ]
  },
  {
   "cell_type": "code",
   "execution_count": 82,
   "metadata": {},
   "outputs": [
    {
     "data": {
      "text/plain": [
       "array([[7, 9, 2, 1, 3, 8, 6, 0, 4, 5]])"
      ]
     },
     "execution_count": 82,
     "metadata": {},
     "output_type": "execute_result"
    }
   ],
   "source": [
    "ans = out.detach().cpu().numpy().T.argsort()\n",
    "ans"
   ]
  },
  {
   "cell_type": "code",
   "execution_count": 83,
   "metadata": {},
   "outputs": [
    {
     "data": {
      "text/plain": [
       "array([[5, 4, 0, 6, 8, 3, 1, 2, 9, 7]])"
      ]
     },
     "execution_count": 83,
     "metadata": {},
     "output_type": "execute_result"
    }
   ],
   "source": [
    "np.flip(ans)"
   ]
  },
  {
   "cell_type": "code",
   "execution_count": null,
   "metadata": {},
   "outputs": [],
   "source": []
  },
  {
   "cell_type": "code",
   "execution_count": null,
   "metadata": {},
   "outputs": [],
   "source": []
  }
 ],
 "metadata": {
  "kernelspec": {
   "display_name": "deepkidney",
   "language": "python",
   "name": "deepkidney"
  },
  "language_info": {
   "codemirror_mode": {
    "name": "ipython",
    "version": 3
   },
   "file_extension": ".py",
   "mimetype": "text/x-python",
   "name": "python",
   "nbconvert_exporter": "python",
   "pygments_lexer": "ipython3",
   "version": "3.7.3"
  },
  "pycharm": {
   "stem_cell": {
    "cell_type": "raw",
    "metadata": {
     "collapsed": false
    },
    "source": []
   }
  }
 },
 "nbformat": 4,
 "nbformat_minor": 2
}
