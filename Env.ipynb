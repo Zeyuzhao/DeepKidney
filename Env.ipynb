{
 "cells": [
  {
   "cell_type": "code",
   "execution_count": 74,
   "metadata": {},
   "outputs": [],
   "source": [
    "import random\n",
    "\n",
    "import numpy as np\n",
    "\n",
    "from math import sqrt, log\n",
    "\n",
    "from GCN import *"
   ]
  },
  {
   "cell_type": "code",
   "execution_count": 75,
   "metadata": {},
   "outputs": [],
   "source": [
    "### Edge List Implementation\n",
    "\n",
    "class MaxSetState:\n",
    "    def __init__(self, data, state = None):\n",
    "        self.data = data\n",
    "        self.node_weights = data[\"x\"]\n",
    "        self.edge_index = data[\"edge_index\"]\n",
    "        \n",
    "        # number of total nodes in original graph\n",
    "        self.num_nodes = len(data[\"x\"])\n",
    "        if state is None:\n",
    "            self.state = np.ones(self.num_nodes, dtype=bool)\n",
    "        else:\n",
    "            self.state = state\n",
    "        \n",
    "    def clone(self):\n",
    "        return MaxSetState(self.data, self.state.copy())\n",
    "\n",
    "    def step(self, action):\n",
    "        assert self.state[action] == 1\n",
    "        \n",
    "        edges = self.edge_index.transpose()\n",
    "        # Get all the neighbors of node action\n",
    "        removal = edges[edges[:, 0] == action][:, 1]\n",
    "        \n",
    "        # Create mask to remove node action and its neighbors\n",
    "        mask = np.zeros(self.num_nodes, dtype=bool)\n",
    "        mask[removal] = 1\n",
    "        mask[action] = 1\n",
    "        \n",
    "        # Perform mask\n",
    "        new_state = self.state & (~mask)\n",
    "        reward = self.node_weights[action]\n",
    "        return MaxSetState(self.data, new_state), reward\n",
    "    \n",
    "    def getNeighbors(self, node):\n",
    "        edges = self.edge_index.transpose()\n",
    "        # Get all the neighbors of node action\n",
    "        neighbors = edges[edges[:, 0] == node][:, 1]\n",
    "        return neighbors\n",
    "\n",
    "    def actions(self):\n",
    "        return list(np.flatnonzero(self.state))\n",
    "\n",
    "    def sample_action(self):\n",
    "        return random.choice(self.actions())\n",
    "\n",
    "    def get_edgelist(self):\n",
    "        new_edges = []\n",
    "        for e in self.edge_index:\n",
    "            if state[e[0]] == 1 or state[e[1]] == 1:\n",
    "                new_edges.append(e)\n",
    "        return np.array(new_edges)\n",
    "\n",
    "    def score(self):\n",
    "        assert not self.state.any()\n",
    "        return 0\n",
    "    def __repr__(self):\n",
    "        return str(self.state)\n"
   ]
  },
  {
   "cell_type": "code",
   "execution_count": 76,
   "metadata": {},
   "outputs": [],
   "source": [
    "class Node:\n",
    "    def __init__(self, state: MaxSetState, action = None, parent = None):\n",
    "        # The action that led to this state, and a reference to the parent\n",
    "        self.action = action\n",
    "        self.parentNode = parent\n",
    "\n",
    "        # Statistics\n",
    "        self.totalScore = 0\n",
    "        self.visits = 1\n",
    "\n",
    "        # Children of node\n",
    "        self.childNodes = []\n",
    "        self.untriedActions = state.actions()\n",
    "\n",
    "    def select_child(self):\n",
    "        upper_confidence = {c: c.totalScore/c.visits + sqrt(4 * log(self.visits)/c.visits) for c in self.childNodes}\n",
    "        return max(upper_confidence, key=upper_confidence.get)\n",
    "\n",
    "    def addChild(self, state, action):\n",
    "        n = Node(state, action, self)\n",
    "        self.untriedActions.remove(action)\n",
    "        self.childNodes.append(n)\n",
    "        return n\n",
    "\n",
    "    def update(self, score):\n",
    "        self.visits += 1\n",
    "        self.totalScore += score\n",
    "\n",
    "    def __repr__(self):\n",
    "        return \"[A: {0} S/V: {1:.2f}/{2} AR: {4:.2f} U: {3}]\".format(self.action, self.totalScore, self.visits - 1, self.untriedActions, self.totalScore / self.visits)\n",
    "\n",
    "    def treeToString(self, level = 0):\n",
    "        s = '\\t' * level + \"\" + str(self) + \"\\n\"\n",
    "        for c in self.childNodes:\n",
    "            s += c.treeToString(level + 1)\n",
    "        return s\n",
    "h"
   ]
  },
  {
   "cell_type": "code",
   "execution_count": 85,
   "metadata": {},
   "outputs": [],
   "source": [
    "def search(root: MaxSetState, itermax, verbose):\n",
    "\n",
    "    rootnode = Node(root)\n",
    "\n",
    "    for i in range(itermax):\n",
    "        if (verbose == 2): print(rootnode.treeToString(0))\n",
    "        node = rootnode\n",
    "        state = root.clone()\n",
    "        # Selection\n",
    "        while node.untriedActions == [] and node.childNodes != []:\n",
    "            node = node.select_child()\n",
    "            state, reward = state.step(node.action)\n",
    "\n",
    "        # Expansion\n",
    "        if node.untriedActions != []:\n",
    "            a = random.choice(node.untriedActions)\n",
    "            if (verbose == 2):\n",
    "                print(\"Taking action: \" + str(a))\n",
    "            state, reward = state.step(a)\n",
    "            node = node.addChild(state, a)\n",
    "\n",
    "        # Simulation\n",
    "        if (verbose == 2):\n",
    "            print(\"Starting State: \" + str(state))\n",
    "        score = 0\n",
    "        while state.actions() != []:\n",
    "            sampled_action = state.sample_action()\n",
    "            state, reward = state.step(sampled_action)\n",
    "            score += reward\n",
    "            if (verbose == 2):\n",
    "                print(\"Simulating Action: \" + str(sampled_action))\n",
    "                print(\"Simulating Reward: \" + str(reward))\n",
    "                print(\"Next State: \" + str(state))\n",
    "        # Backpropagate\n",
    "\n",
    "        while node.action != None:\n",
    "            score += state.node_weights[node.action]\n",
    "            node.update(score)\n",
    "            if (verbose == 2):\n",
    "                print(\"Node Weights: \" + str(state.node_weights))\n",
    "                print(\"Action: \" + str(node.action))\n",
    "                print(\"Reward Value: \" + str(state.node_weights[node.action]))\n",
    "            node = node.parentNode\n",
    "        \n",
    "    if (verbose and verbose != 2): print(rootnode.treeToString(0))\n",
    "\n",
    "    actions = {c.action: c.visits for c in rootnode.childNodes}\n",
    "    return sorted(list(actions.keys()), key=actions.get, reverse=True)"
   ]
  },
  {
   "cell_type": "code",
   "execution_count": 86,
   "metadata": {},
   "outputs": [],
   "source": [
    "import matplotlib.pyplot as plt\n",
    "\n",
    "visualize = MaxIndDataset('data/weighted_binomial_80')\n",
    "\n",
    "ID = 4\n",
    "test_graph = visualize[ID]"
   ]
  },
  {
   "cell_type": "code",
   "execution_count": null,
   "metadata": {},
   "outputs": [],
   "source": [
    "draw_entry(test_graph)"
   ]
  },
  {
   "cell_type": "code",
   "execution_count": 82,
   "metadata": {},
   "outputs": [
    {
     "name": "stdout",
     "output_type": "stream",
     "text": [
      "[A: None S/V: 0.00/0 AR: 0.00 U: [0, 1, 2, 3, 4, 5, 6, 9, 10, 12, 13, 14, 18, 19, 20, 21, 22, 23, 24, 25, 26, 27, 28, 30, 31, 32, 33, 34, 35, 36, 37, 38, 39, 40, 41, 42, 45, 46, 47, 49, 50, 51, 52, 53, 54, 55, 56, 57, 58, 59, 60, 61, 62, 63, 64, 65, 66, 67, 68, 69, 70, 71, 72, 73, 74, 75, 76, 77, 78, 79]]\n",
      "\t[A: 44 S/V: 5.57/1 AR: 2.79 U: [0, 1, 2, 4, 6, 7, 8, 11, 12, 13, 14, 15, 17, 18, 21, 22, 23, 24, 25, 26, 29, 30, 31, 32, 33, 34, 36, 37, 38, 40, 41, 42, 43, 45, 47, 48, 50, 51, 52, 54, 56, 57, 58, 59, 60, 61, 63, 64, 66, 67, 68, 70, 74, 76, 78, 79]]\n",
      "\t[A: 29 S/V: 5.60/1 AR: 2.80 U: [0, 1, 2, 5, 8, 10, 13, 15, 16, 17, 18, 19, 20, 22, 23, 24, 25, 28, 30, 31, 34, 35, 36, 38, 39, 40, 41, 42, 43, 44, 45, 47, 49, 50, 52, 53, 55, 56, 57, 58, 60, 61, 62, 63, 64, 65, 66, 67, 68, 69, 70, 71, 73, 74, 75, 76, 77, 78, 79]]\n",
      "\t[A: 16 S/V: 6.25/1 AR: 3.12 U: [1, 2, 3, 4, 5, 6, 7, 8, 10, 11, 13, 14, 15, 17, 18, 19, 20, 21, 22, 23, 24, 25, 26, 27, 28, 29, 30, 31, 32, 33, 34, 35, 36, 37, 38, 40, 41, 43, 45, 46, 47, 48, 49, 50, 51, 52, 53, 55, 57, 58, 59, 61, 62, 63, 64, 65, 66, 67, 68, 69, 70, 72, 74, 75, 76, 77, 78, 79]]\n",
      "\t[A: 8 S/V: 5.38/1 AR: 2.69 U: [0, 1, 2, 3, 5, 7, 9, 11, 12, 13, 14, 15, 16, 17, 19, 20, 21, 22, 23, 24, 25, 26, 27, 29, 30, 31, 32, 33, 34, 35, 36, 37, 39, 41, 42, 43, 44, 45, 46, 47, 48, 49, 50, 51, 53, 54, 55, 56, 57, 58, 60, 61, 62, 63, 68, 69, 70, 73, 74, 75, 76, 77, 78, 79]]\n",
      "\t[A: 15 S/V: 6.19/1 AR: 3.10 U: [0, 1, 2, 3, 5, 7, 8, 9, 12, 13, 14, 16, 18, 19, 20, 21, 22, 23, 24, 25, 26, 28, 29, 30, 31, 33, 34, 35, 36, 37, 38, 40, 41, 42, 43, 44, 46, 48, 49, 50, 51, 52, 53, 54, 55, 56, 57, 59, 60, 61, 63, 64, 65, 68, 69, 71, 72, 73, 74, 76, 77, 78, 79]]\n",
      "\t[A: 7 S/V: 5.73/1 AR: 2.87 U: [0, 1, 2, 3, 4, 5, 6, 8, 9, 10, 12, 13, 14, 15, 16, 19, 20, 23, 25, 27, 28, 30, 31, 32, 34, 35, 37, 39, 40, 43, 44, 45, 46, 47, 48, 49, 50, 51, 52, 53, 54, 55, 56, 59, 60, 62, 63, 65, 67, 68, 69, 70, 72, 73, 74, 75, 76, 77, 78, 79]]\n",
      "\t[A: 11 S/V: 5.53/1 AR: 2.77 U: [0, 1, 3, 4, 5, 6, 8, 9, 10, 12, 13, 14, 16, 18, 19, 20, 21, 22, 23, 24, 25, 26, 27, 28, 31, 32, 34, 35, 36, 37, 38, 39, 40, 44, 45, 46, 47, 49, 50, 51, 53, 54, 55, 56, 57, 60, 61, 62, 63, 67, 69, 70, 71, 72, 74, 76, 77, 79]]\n",
      "\t[A: 43 S/V: 4.94/1 AR: 2.47 U: [0, 1, 2, 4, 5, 6, 7, 8, 9, 10, 12, 13, 14, 15, 16, 17, 18, 19, 20, 21, 22, 23, 24, 25, 26, 27, 28, 29, 30, 33, 34, 36, 37, 38, 39, 40, 41, 42, 44, 45, 46, 47, 48, 49, 50, 51, 52, 53, 54, 55, 56, 57, 58, 59, 62, 63, 64, 66, 67, 68, 69, 70, 71, 72, 74, 76, 77, 78, 79]]\n",
      "\t[A: 48 S/V: 6.88/1 AR: 3.44 U: [0, 1, 2, 3, 4, 5, 6, 7, 8, 9, 10, 15, 16, 17, 18, 19, 20, 21, 22, 24, 25, 26, 27, 28, 30, 31, 33, 34, 35, 36, 37, 38, 39, 40, 42, 43, 44, 45, 46, 47, 49, 50, 51, 52, 54, 55, 57, 58, 59, 60, 61, 62, 63, 64, 65, 66, 67, 68, 69, 71, 72, 73, 74, 75, 76, 77, 78, 79]]\n",
      "\t[A: 17 S/V: 5.87/1 AR: 2.93 U: [1, 2, 3, 6, 8, 9, 14, 16, 18, 19, 20, 22, 23, 24, 25, 26, 28, 29, 30, 31, 32, 33, 34, 35, 36, 37, 38, 39, 41, 42, 43, 44, 45, 46, 48, 49, 50, 51, 52, 53, 54, 57, 58, 59, 61, 62, 63, 64, 67, 68, 69, 70, 71, 72, 73, 74, 75, 76, 77, 78, 79]]\n",
      "\n"
     ]
    }
   ],
   "source": [
    "# Debug Search\n",
    "test_data = {k: np.round(v.data.numpy(), 3) for k, v in iter(test_graph)}\n",
    "target = sum(test_data['x'][test_data['y'].astype(bool)])\n",
    "current = MaxSetState(data=test_data)\n",
    "result = search(current, 10, True)"
   ]
  },
  {
   "cell_type": "code",
   "execution_count": 84,
   "metadata": {},
   "outputs": [
    {
     "name": "stdout",
     "output_type": "stream",
     "text": [
      "13.8 µs ± 272 ns per loop (mean ± std. dev. of 7 runs, 100000 loops each)\n"
     ]
    }
   ],
   "source": [
    "%timeit current.step(0)"
   ]
  },
  {
   "cell_type": "code",
   "execution_count": null,
   "metadata": {},
   "outputs": [],
   "source": [
    "def random_rollout(data):\n",
    "    score = 0\n",
    "    state = MaxSetState(data)\n",
    "    while state.actions() != []:\n",
    "        state, reward = state.step(state.sample_action())\n",
    "        score += reward\n",
    "    return score\n",
    "\n",
    "def random_rollout_avg(data, rand_trials):\n",
    "    tot_rand_score = 0\n",
    "    for i in range(rand_trials):\n",
    "        tot_rand_score += random_rollout(data)\n",
    "    rand_score = tot_rand_score / rand_trials\n",
    "    return rand_score\n",
    "\n",
    "def random_rollout_max(data, rand_trials):\n",
    "    max_rand_score = 0\n",
    "    for i in range(rand_trials):\n",
    "        max_rand_score = max(max_rand_score, random_rollout(data))\n",
    "    return max_rand_score"
   ]
  },
  {
   "cell_type": "code",
   "execution_count": 72,
   "metadata": {},
   "outputs": [],
   "source": [
    "def searchTester():\n",
    "    for ID in range(1):\n",
    "        test_graph = visualize[ID]\n",
    "        tot_score = 0\n",
    "        max_tot_score = 0\n",
    "        trials = 5\n",
    "\n",
    "        test_data = {k: np.round(v.data.numpy(), 3) for k, v in iter(test_graph)}\n",
    "\n",
    "        target = sum(test_data['x'][test_data['y'].astype(bool)])\n",
    "        for i in range(trials):\n",
    "            current = MaxSetState(data=test_data)\n",
    "            score = 0\n",
    "            action = \"None\"\n",
    "            reward = 0\n",
    "            chosen = []\n",
    "            while current.actions() != []:\n",
    "                result = search(current, 1000, False)\n",
    "                current, r = current.step(result[0])\n",
    "                # print(\"Action: {0} Reward: {1:.3f} Results: {2}\".format(action, reward, result))\n",
    "                action = result[0]\n",
    "                score += r\n",
    "                reward = r\n",
    "                chosen.append(action)\n",
    "            tot_score += score\n",
    "\n",
    "            optimal = np.flatnonzero(test_data['y'])\n",
    "    #         print(\"Chosen: {0}\".format(sorted(chosen)))\n",
    "    #         print(\"Optimal: {0}\".format(sorted(optimal)))\n",
    "    #         print(\"Action: {0} Score: {1:.3f}\".format(action, score))\n",
    "    #         print(\"Target: {0:.3f}\".format(target))\n",
    "    #         print(\"--------------------\")\n",
    "            max_tot_score = max(max_tot_score, score)\n",
    "        rand_avg_baseline = random_rollout_avg(test_data, 1000)\n",
    "        rand_max_baseline = random_rollout_max(test_data, 1000)\n",
    "        print(\"ID[{0}]: Target: {1:.3f} Algo Avg Score: {2:.3f}\\t Algo Max Score: {3:.3f}\\t Rand Avg Score: {4:.3f} Rand Max Score: {5:.3f}\".format(ID, target, (tot_score / trials), max_tot_score, rand_avg_baseline, rand_max_baseline))"
   ]
  },
  {
   "cell_type": "code",
   "execution_count": null,
   "metadata": {},
   "outputs": [],
   "source": [
    "import cProfile\n",
    "cProfile.run('searchTester()')"
   ]
  },
  {
   "cell_type": "code",
   "execution_count": null,
   "metadata": {},
   "outputs": [],
   "source": [
    "draw_entry(test_graph)"
   ]
  },
  {
   "cell_type": "code",
   "execution_count": null,
   "metadata": {},
   "outputs": [],
   "source": [
    "current = MaxSetState(data=test_data)"
   ]
  },
  {
   "cell_type": "code",
   "execution_count": null,
   "metadata": {},
   "outputs": [],
   "source": [
    "current.getNeighbors(16)"
   ]
  },
  {
   "cell_type": "code",
   "execution_count": null,
   "metadata": {},
   "outputs": [],
   "source": []
  }
 ],
 "metadata": {
  "kernelspec": {
   "display_name": "deepkidney",
   "language": "python",
   "name": "deepkidney"
  },
  "language_info": {
   "codemirror_mode": {
    "name": "ipython",
    "version": 3
   },
   "file_extension": ".py",
   "mimetype": "text/x-python",
   "name": "python",
   "nbconvert_exporter": "python",
   "pygments_lexer": "ipython3",
   "version": "3.7.3"
  }
 },
 "nbformat": 4,
 "nbformat_minor": 2
}
