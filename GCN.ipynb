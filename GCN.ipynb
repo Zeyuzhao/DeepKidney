{
 "cells": [
  {
   "cell_type": "markdown",
   "metadata": {},
   "source": [
    "## Dataset Class"
   ]
  },
  {
   "cell_type": "code",
   "execution_count": 4,
   "metadata": {},
   "outputs": [],
   "source": [
    "import os\n",
    "import os.path as osp\n",
    "\n",
    "import networkx as nx\n",
    "import numpy as np\n",
    "import pandas as pd\n",
    "import torch\n",
    "from torch_geometric.data import InMemoryDataset, DataLoader\n",
    "from torch_geometric.utils import from_networkx\n",
    "\n",
    "class MaxIndDataset(InMemoryDataset):\n",
    "    def __init__(self, root):\n",
    "        self.label_frame = pd.read_csv(osp.join(root, \"label.csv\"))\n",
    "        self.weight_frame = pd.read_csv(osp.join(root, \"weight.csv\"))\n",
    "        self.root_dir = root\n",
    "        self.num_graphs = len(self.label_frame)\n",
    "        super(MaxIndDataset, self).__init__(root)\n",
    "        self.data, self.slices = torch.load(self.processed_paths[0])\n",
    "   \n",
    "    @property   \n",
    "    def processed_file_names(self):\n",
    "        return ['data.pt']\n",
    "    \n",
    "    def _download(self):\n",
    "        pass\n",
    "    \n",
    "    def process(self):\n",
    "        data_list = []\n",
    "        for i in range(self.num_graphs):\n",
    "            graph_name = os.path.join(self.root_dir, self.label_frame.iloc[i, 0])\n",
    "            graph = nx.read_adjlist(graph_name, nodetype=int)\n",
    "   \n",
    "            weight = torch.tensor(self.weight_frame.iloc[i, 1:], dtype=torch.float)\n",
    "            label = torch.tensor(self.label_frame.iloc[i, 1:], dtype=torch.long)\n",
    "        \n",
    "            data = from_networkx(graph)\n",
    "            data.x = weight\n",
    "            data.y = label\n",
    "            \n",
    "            data_list.append(data)\n",
    "        data, slices = self.collate(data_list)\n",
    "        torch.save((data, slices), self.processed_paths[0])"
   ]
  },
  {
   "cell_type": "markdown",
   "metadata": {},
   "source": [
    "## Drawing Utility\n",
    "\n",
    "Takes in a data entry:\n",
    "* \"edge_list\" (list of edges)\n",
    "* \"x\" labels (weights)\n",
    "* \"y\" lables (output labels)\n",
    "\n",
    "and draws the graph out in a circular format. "
   ]
  },
  {
   "cell_type": "code",
   "execution_count": 55,
   "metadata": {},
   "outputs": [],
   "source": [
    "from torch_geometric.utils import to_networkx\n",
    "import matplotlib.pyplot as plt\n",
    "import torch\n",
    "def draw_entry(entry, color_map = None):\n",
    "    g = to_networkx(entry)\n",
    "    \n",
    "    if color_map:\n",
    "        label = color_map\n",
    "    else:\n",
    "        label = entry[\"y\"]\n",
    "    \n",
    "    # Create color map from selected nodes, green for selected, grey for unselected.\n",
    "    color_map = [\"grey\"] * len(g.nodes)\n",
    "\n",
    "    for i in np.flatnonzero(label):\n",
    "        color_map[i] = \"green\"\n",
    "        \n",
    "    node_labels = entry[\"x\"]\n",
    "    \n",
    "    if not torch.equal(node_labels, torch.ones(len(g.nodes))):\n",
    "        node_labels = {k: \"{0}:\\n{1:.3f}\".format(k, v) for (k, v) in enumerate(node_labels)}\n",
    "    else:\n",
    "        node_labels = {k: k for k in g.nodes}\n",
    "    \n",
    "    plt.figure()\n",
    "    pos = nx.circular_layout(g)\n",
    "    nx.draw(g, pos, node_size=2000, width = 1, node_color = color_map)\n",
    "    nx.draw_networkx_labels(g, pos, node_labels)\n",
    "    plt.show()  \n",
    "    "
   ]
  },
  {
   "cell_type": "code",
   "execution_count": 6,
   "metadata": {},
   "outputs": [],
   "source": [
    "def split_loader(dataset, train_size, test_size, batch_size):\n",
    "    dataset.shuffle()\n",
    "    size = len(dataset)\n",
    "    \n",
    "    tr_i = int(size * train_size)\n",
    "    val_i = tr_i + int(size * test_size)\n",
    "    train_loader = DataLoader(dataset[:tr_i], batch_size=batch_size, shuffle=True)\n",
    "    val_loader = DataLoader(dataset[tr_i: val_i])\n",
    "    test_loader = DataLoader(dataset[val_i:])\n",
    "    return train_loader, val_loader, test_loader"
   ]
  },
  {
   "cell_type": "code",
   "execution_count": 7,
   "metadata": {},
   "outputs": [
    {
     "name": "stdout",
     "output_type": "stream",
     "text": [
      "Processing...\n",
      "Done!\n"
     ]
    }
   ],
   "source": [
    "visualize = MaxIndDataset('data/mini')"
   ]
  },
  {
   "cell_type": "code",
   "execution_count": 11,
   "metadata": {},
   "outputs": [
    {
     "data": {
      "image/png": "[encoded data removed]",
      "text/plain": [
       "<Figure size 432x288 with 1 Axes>"
      ]
     },
     "metadata": {},
     "output_type": "display_data"
    }
   ],
   "source": [
    "draw_entry(visualize[2])"
   ]
  },
  {
   "cell_type": "code",
   "execution_count": 12,
   "metadata": {},
   "outputs": [],
   "source": [
    "bin_80 = MaxIndDataset('data/binomial_80')"
   ]
  },
  {
   "cell_type": "code",
   "execution_count": 13,
   "metadata": {},
   "outputs": [],
   "source": [
    "train_loader, val_loader, test_loader = split_loader(bin_80, .7, .2, 20)"
   ]
  },
  {
   "cell_type": "code",
   "execution_count": 14,
   "metadata": {},
   "outputs": [
    {
     "name": "stdout",
     "output_type": "stream",
     "text": [
      "Batch(batch=[1600], edge_index=[2, 25374], x=[1600], y=[1600])\n",
      "torch.Size([1600])\n",
      "torch.Size([2, 25374])\n"
     ]
    }
   ],
   "source": [
    "\n",
    "for b in train_loader:\n",
    "    print(b)\n",
    "    print(b.x.size())\n",
    "    print(b.edge_index.size())\n",
    "    break"
   ]
  },
  {
   "cell_type": "code",
   "execution_count": 15,
   "metadata": {},
   "outputs": [],
   "source": [
    "import torch\n",
    "import torch.nn.functional as F\n",
    "from torch_geometric.nn import GCNConv\n",
    "\n",
    "class BasicNet(torch.nn.Module):\n",
    "    def __init__(self):\n",
    "        super(BasicNet, self).__init__()\n",
    "        self.conv1 = GCNConv(1, 16)\n",
    "        self.conv2 = GCNConv(16, 1)\n",
    "\n",
    "    def forward(self, data):\n",
    "        weight = data[\"x\"].view(-1, 1)\n",
    "        edge_index = data[\"edge_index\"]\n",
    "        x = self.conv1(weight, edge_index)\n",
    "        x = F.relu(x)\n",
    "        x = self.conv2(x, edge_index)\n",
    "        x = torch.sigmoid(x)\n",
    "        return x"
   ]
  },
  {
   "cell_type": "code",
   "execution_count": 16,
   "metadata": {},
   "outputs": [],
   "source": [
    "import torch\n",
    "import torch.nn.functional as F\n",
    "from torch_geometric.nn import GCNConv\n",
    "\n",
    "class MultiNet(torch.nn.Module):\n",
    "    def __init__(self):\n",
    "        super(MultiNet, self).__init__()\n",
    "        self.conv_in = GCNConv(1, 32)\n",
    "        self.conv_mid = GCNConv(32, 32)\n",
    "        self.conv_out = GCNConv(32, 1)\n",
    "\n",
    "    def forward(self, data):\n",
    "        weight = data[\"x\"].view(-1, 1)\n",
    "        edge_index = data[\"edge_index\"]\n",
    "        x = self.conv_in(weight, edge_index)\n",
    "        x = F.relu(x)\n",
    "        \n",
    "        x = self.conv_mid(x, edge_index)\n",
    "        x = F.relu(x)\n",
    "        \n",
    "        x = self.conv_mid(x, edge_index)\n",
    "        x = F.relu(x)\n",
    "        \n",
    "        x = self.conv_mid(x, edge_index)\n",
    "        x = F.relu(x)\n",
    "        \n",
    "        x = self.conv_mid(x, edge_index)\n",
    "        x = F.relu(x)\n",
    "        \n",
    "        x = self.conv_out(x, edge_index)\n",
    "        x = torch.sigmoid(x)\n",
    "        return x"
   ]
  },
  {
   "cell_type": "code",
   "execution_count": 42,
   "metadata": {},
   "outputs": [
    {
     "name": "stderr",
     "output_type": "stream",
     "text": [
      "  7%|▋         | 1/15 [00:10<02:22, 10.14s/it]"
     ]
    },
    {
     "name": "stdout",
     "output_type": "stream",
     "text": [
      "Epoch: 000, Train Loss: 0.5172, Val Loss: 0.508\n"
     ]
    },
    {
     "name": "stderr",
     "output_type": "stream",
     "text": [
      " 13%|█▎        | 2/15 [00:20<02:12, 10.16s/it]"
     ]
    },
    {
     "name": "stdout",
     "output_type": "stream",
     "text": [
      "Epoch: 001, Train Loss: 0.4989, Val Loss: 0.486\n"
     ]
    },
    {
     "name": "stderr",
     "output_type": "stream",
     "text": [
      " 20%|██        | 3/15 [00:30<02:02, 10.24s/it]"
     ]
    },
    {
     "name": "stdout",
     "output_type": "stream",
     "text": [
      "Epoch: 002, Train Loss: 0.4808, Val Loss: 0.471\n"
     ]
    },
    {
     "name": "stderr",
     "output_type": "stream",
     "text": [
      " 27%|██▋       | 4/15 [00:40<01:51, 10.12s/it]"
     ]
    },
    {
     "name": "stdout",
     "output_type": "stream",
     "text": [
      "Epoch: 003, Train Loss: 0.4634, Val Loss: 0.453\n"
     ]
    },
    {
     "name": "stderr",
     "output_type": "stream",
     "text": [
      " 33%|███▎      | 5/15 [00:50<01:41, 10.11s/it]"
     ]
    },
    {
     "name": "stdout",
     "output_type": "stream",
     "text": [
      "Epoch: 004, Train Loss: 0.4479, Val Loss: 0.436\n"
     ]
    },
    {
     "name": "stderr",
     "output_type": "stream",
     "text": [
      " 40%|████      | 6/15 [01:00<01:30, 10.05s/it]"
     ]
    },
    {
     "name": "stdout",
     "output_type": "stream",
     "text": [
      "Epoch: 005, Train Loss: 0.4376, Val Loss: 0.432\n"
     ]
    },
    {
     "name": "stderr",
     "output_type": "stream",
     "text": [
      " 47%|████▋     | 7/15 [01:10<01:19,  9.95s/it]"
     ]
    },
    {
     "name": "stdout",
     "output_type": "stream",
     "text": [
      "Epoch: 006, Train Loss: 0.4294, Val Loss: 0.420\n"
     ]
    },
    {
     "name": "stderr",
     "output_type": "stream",
     "text": [
      " 53%|█████▎    | 8/15 [01:20<01:09,  9.90s/it]"
     ]
    },
    {
     "name": "stdout",
     "output_type": "stream",
     "text": [
      "Epoch: 007, Train Loss: 0.4352, Val Loss: 0.424\n"
     ]
    },
    {
     "name": "stderr",
     "output_type": "stream",
     "text": [
      " 60%|██████    | 9/15 [01:29<00:59,  9.85s/it]"
     ]
    },
    {
     "name": "stdout",
     "output_type": "stream",
     "text": [
      "Epoch: 008, Train Loss: 0.4248, Val Loss: 0.417\n"
     ]
    },
    {
     "name": "stderr",
     "output_type": "stream",
     "text": [
      " 67%|██████▋   | 10/15 [01:39<00:49,  9.83s/it]"
     ]
    },
    {
     "name": "stdout",
     "output_type": "stream",
     "text": [
      "Epoch: 009, Train Loss: 0.4197, Val Loss: 0.416\n"
     ]
    },
    {
     "name": "stderr",
     "output_type": "stream",
     "text": [
      " 73%|███████▎  | 11/15 [01:49<00:39,  9.82s/it]"
     ]
    },
    {
     "name": "stdout",
     "output_type": "stream",
     "text": [
      "Epoch: 010, Train Loss: 0.4159, Val Loss: 0.410\n"
     ]
    },
    {
     "name": "stderr",
     "output_type": "stream",
     "text": [
      " 80%|████████  | 12/15 [01:59<00:29,  9.93s/it]"
     ]
    },
    {
     "name": "stdout",
     "output_type": "stream",
     "text": [
      "Epoch: 011, Train Loss: 0.4138, Val Loss: 0.409\n"
     ]
    },
    {
     "name": "stderr",
     "output_type": "stream",
     "text": [
      " 87%|████████▋ | 13/15 [02:09<00:19,  9.88s/it]"
     ]
    },
    {
     "name": "stdout",
     "output_type": "stream",
     "text": [
      "Epoch: 012, Train Loss: 0.4131, Val Loss: 0.407\n"
     ]
    },
    {
     "name": "stderr",
     "output_type": "stream",
     "text": [
      " 93%|█████████▎| 14/15 [02:19<00:09,  9.88s/it]"
     ]
    },
    {
     "name": "stdout",
     "output_type": "stream",
     "text": [
      "Epoch: 013, Train Loss: 0.4152, Val Loss: 0.412\n"
     ]
    },
    {
     "name": "stderr",
     "output_type": "stream",
     "text": [
      "100%|██████████| 15/15 [02:29<00:00,  9.86s/it]"
     ]
    },
    {
     "name": "stdout",
     "output_type": "stream",
     "text": [
      "Epoch: 014, Train Loss: 0.4112, Val Loss: 0.406\n",
      "Finished Training\n"
     ]
    },
    {
     "name": "stderr",
     "output_type": "stream",
     "text": [
      "\n"
     ]
    }
   ],
   "source": [
    "from tqdm import tqdm#, tqdm_notebook\n",
    "\n",
    "### Runs but losses dont go down, seems to converge to around 0.48\n",
    "\n",
    "device = torch.device(\"cuda:0\" if torch.cuda.is_available() else \"cpu\")\n",
    "\n",
    "model = MultiNet().to(device)\n",
    "criterion = torch.nn.BCELoss()\n",
    "optimizer = torch.optim.Adam(model.parameters(), lr=0.01, weight_decay=5e-4)\n",
    "\n",
    "def train(epoch):\n",
    "    model.train()\n",
    "    running_loss = 0.0\n",
    "    for i, item in enumerate(train_loader):\n",
    "        optimizer.zero_grad()\n",
    "        item = item.to(device)\n",
    "        outputs = model(item)\n",
    "        \n",
    "        loss = criterion(outputs, item[\"y\"].float())\n",
    "        loss.backward()\n",
    "        optimizer.step()\n",
    "        running_loss += loss.item()\n",
    "    return running_loss / len(train_loader)\n",
    "\n",
    "def evaluate(loader):\n",
    "    model.eval()\n",
    "    running_acc = 0.0 # Implement later\n",
    "    running_loss = 0.0\n",
    "    for i, item in enumerate(loader):\n",
    "        item = item.to(device)\n",
    "        outputs = model(item)\n",
    "        loss = criterion(outputs.view(-1, 1), item[\"y\"].float().view(-1, 1))\n",
    "        running_loss += loss.item()\n",
    "    return running_loss / len(loader)\n",
    "        \n",
    "for epoch in tqdm(range(15)):\n",
    "    train_loss = train(epoch)\n",
    "    val_loss = evaluate(val_loader)\n",
    "    print(('Epoch: {:03d}, Train Loss: {:.4f}, Val Loss: {:.3f}').format(epoch, train_loss, val_loss))\n",
    "\n",
    "print('Finished Training')        "
   ]
  },
  {
   "cell_type": "code",
   "execution_count": 44,
   "metadata": {},
   "outputs": [
    {
     "name": "stdout",
     "output_type": "stream",
     "text": [
      "Model's state_dict:\n",
      "conv_in.weight \t torch.Size([1, 32])\n",
      "conv_in.bias \t torch.Size([32])\n",
      "conv_mid.weight \t torch.Size([32, 32])\n",
      "conv_mid.bias \t torch.Size([32])\n",
      "conv_out.weight \t torch.Size([32, 1])\n",
      "conv_out.bias \t torch.Size([1])\n"
     ]
    }
   ],
   "source": [
    "print(\"Model's state_dict:\")\n",
    "for param_tensor in model.state_dict():\n",
    "    print(param_tensor, \"\\t\", model.state_dict()[param_tensor].size())"
   ]
  },
  {
   "cell_type": "code",
   "execution_count": 45,
   "metadata": {},
   "outputs": [],
   "source": [
    "torch.save(model.state_dict(), \"model/unweighted_multinet.pt\")"
   ]
  },
  {
   "cell_type": "code",
   "execution_count": 46,
   "metadata": {},
   "outputs": [
    {
     "data": {
      "text/plain": [
       "MultiNet(\n",
       "  (conv_in): GCNConv(1, 32)\n",
       "  (conv_mid): GCNConv(32, 32)\n",
       "  (conv_out): GCNConv(32, 1)\n",
       ")"
      ]
     },
     "execution_count": 46,
     "metadata": {},
     "output_type": "execute_result"
    }
   ],
   "source": [
    "model.eval()"
   ]
  },
  {
   "cell_type": "code",
   "execution_count": 47,
   "metadata": {},
   "outputs": [
    {
     "data": {
      "image/png": "[encoded data removed]",
      "text/plain": [
       "<Figure size 432x288 with 1 Axes>"
      ]
     },
     "metadata": {},
     "output_type": "display_data"
    }
   ],
   "source": [
    "test_item = visualize[2]\n",
    "draw_entry(test_item)"
   ]
  },
  {
   "cell_type": "code",
   "execution_count": 48,
   "metadata": {},
   "outputs": [
    {
     "data": {
      "text/plain": [
       "tensor([[0.2869],\n",
       "        [0.2869],\n",
       "        [0.6564],\n",
       "        [0.2357],\n",
       "        [0.2378]], device='cuda:0', grad_fn=<SigmoidBackward>)"
      ]
     },
     "execution_count": 48,
     "metadata": {},
     "output_type": "execute_result"
    }
   ],
   "source": [
    "test_item.to(device)\n",
    "out = model(test_item)\n",
    "out"
   ]
  },
  {
   "cell_type": "code",
   "execution_count": 49,
   "metadata": {},
   "outputs": [
    {
     "data": {
      "text/plain": [
       "array([[2, 1, 0, 4, 3]])"
      ]
     },
     "execution_count": 49,
     "metadata": {},
     "output_type": "execute_result"
    }
   ],
   "source": [
    "# Sorts the indices from greatest value to the least\n",
    "ans = np.flip(out.detach().cpu().numpy().T.argsort())\n",
    "ans"
   ]
  },
  {
   "cell_type": "code",
   "execution_count": 57,
   "metadata": {},
   "outputs": [
    {
     "data": {
      "text/plain": [
       "array([[0, 1],\n",
       "       [0, 3],\n",
       "       [0, 4],\n",
       "       [1, 0],\n",
       "       [1, 3],\n",
       "       [1, 4],\n",
       "       [3, 0],\n",
       "       [3, 1],\n",
       "       [3, 2],\n",
       "       [4, 0],\n",
       "       [4, 1],\n",
       "       [2, 3]])"
      ]
     },
     "execution_count": 57,
     "metadata": {},
     "output_type": "execute_result"
    }
   ],
   "source": [
    "edges = test_item[\"edge_index\"].cpu().numpy().T\n",
    "edges"
   ]
  },
  {
   "cell_type": "code",
   "execution_count": 90,
   "metadata": {},
   "outputs": [
    {
     "name": "stdout",
     "output_type": "stream",
     "text": [
      "[0 1]\n",
      "[0 3]\n",
      "[0 4]\n",
      "[1 0]\n",
      "[1 3]\n",
      "[1 4]\n",
      "[3 0]\n",
      "[3 1]\n",
      "[3 2]\n",
      "[4 0]\n",
      "[4 1]\n",
      "[2 3]\n"
     ]
    }
   ],
   "source": [
    "for e in edges:\n",
    "    print(e)"
   ]
  },
  {
   "cell_type": "code",
   "execution_count": 78,
   "metadata": {},
   "outputs": [
    {
     "data": {
      "text/plain": [
       "array([ True,  True,  True,  True,  True,  True, False, False, False,\n",
       "        True,  True,  True])"
      ]
     },
     "execution_count": 78,
     "metadata": {},
     "output_type": "execute_result"
    }
   ],
   "source": [
    "edges[:, 0] != 3"
   ]
  },
  {
   "cell_type": "code",
   "execution_count": 79,
   "metadata": {},
   "outputs": [
    {
     "data": {
      "text/plain": [
       "array([ True, False,  True,  True, False,  True,  True,  True,  True,\n",
       "        True,  True, False])"
      ]
     },
     "execution_count": 79,
     "metadata": {},
     "output_type": "execute_result"
    }
   ],
   "source": [
    "edges[:, 1] != 3"
   ]
  },
  {
   "cell_type": "code",
   "execution_count": 81,
   "metadata": {},
   "outputs": [
    {
     "data": {
      "text/plain": [
       "array([ True, False,  True,  True, False,  True, False, False, False,\n",
       "        True,  True, False])"
      ]
     },
     "execution_count": 81,
     "metadata": {},
     "output_type": "execute_result"
    }
   ],
   "source": [
    "np.logical_and(edges[:, 0] != 3, edges[:, 1] != 3)"
   ]
  },
  {
   "cell_type": "code",
   "execution_count": null,
   "metadata": {},
   "outputs": [],
   "source": []
  }
 ],
 "metadata": {
  "kernelspec": {
   "display_name": "deepkidney",
   "language": "python",
   "name": "deepkidney"
  },
  "language_info": {
   "codemirror_mode": {
    "name": "ipython",
    "version": 3
   },
   "file_extension": ".py",
   "mimetype": "text/x-python",
   "name": "python",
   "nbconvert_exporter": "python",
   "pygments_lexer": "ipython3",
   "version": "3.7.3"
  }
 },
 "nbformat": 4,
 "nbformat_minor": 2
}
